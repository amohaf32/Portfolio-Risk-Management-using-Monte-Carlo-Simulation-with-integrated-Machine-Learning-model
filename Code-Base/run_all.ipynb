{
 "cells": [
  {
   "cell_type": "code",
   "execution_count": null,
   "metadata": {},
   "outputs": [],
   "source": [
    "# run_all.ipynb\n",
    "# Master notebook to execute all steps\n",
    "\n",
    "# 1. Data collection and preprocessing\n",
    "%run \"Code-Base/Data Collection & Preprocessing/data collection and preprocessing.py\"\n",
    "\n",
    "# 2. Train & evaluate LSTM\n",
    "%run \"LSTM Volatility Model/notebooks/lstm_model.ipynb\"\n",
    "\n",
    "# 3. Market Regime Detection (KMeans)\n",
    "%run \"Market Regime Detection/notebooks/kmeans_clustering.ipynb\"\n",
    "\n",
    "# 4. Simulation\n",
    "%run \"Monte Carlo Simulation/simulation.ipynb\"\n",
    "\n",
    "# 5. Optional final visual report\n",
    "%run \"Reporting/final_plots.ipynb\"\n"
   ]
  }
 ],
 "metadata": {
  "kernelspec": {
   "display_name": "conda_python_env_3.11.10",
   "language": "python",
   "name": "python3"
  },
  "language_info": {
   "name": "python",
   "version": "3.11.10"
  }
 },
 "nbformat": 4,
 "nbformat_minor": 2
}
