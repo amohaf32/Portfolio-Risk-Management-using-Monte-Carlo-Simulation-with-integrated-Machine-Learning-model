{
 "cells": [
  {
   "cell_type": "code",
   "execution_count": 1,
   "metadata": {},
   "outputs": [],
   "source": [
    "from scipy.optimize import minimize"
   ]
  },
  {
   "cell_type": "markdown",
   "metadata": {},
   "source": [
    "loading data from the sql "
   ]
  },
  {
   "cell_type": "code",
   "execution_count": 2,
   "metadata": {},
   "outputs": [
    {
     "name": "stdout",
     "output_type": "stream",
     "text": [
      "Log returns shape: (1342, 92)\n",
      "ticker          AAPL      ADBE       ADI       ADP       AEP      ALGN  \\\n",
      "date                                                                     \n",
      "2020-01-03 -0.009769 -0.007865 -0.017760 -0.002116 -0.001071 -0.011487   \n",
      "2020-01-06  0.007937  0.005710 -0.011818  0.001352  0.003315  0.019212   \n",
      "2020-01-07 -0.004714 -0.000959  0.022496 -0.012178  0.000214 -0.009913   \n",
      "2020-01-08  0.015958  0.013348  0.008991  0.009354 -0.002993  0.010333   \n",
      "2020-01-09  0.021018  0.007607  0.000000  0.008800  0.005019  0.036190   \n",
      "\n",
      "ticker          AMAT       AMD      AMGN      AMZN  ...      TEAM      TSLA  \\\n",
      "date                                                ...                       \n",
      "2020-01-03 -0.016045 -0.010236 -0.006812 -0.012213  ...  0.001301  0.029203   \n",
      "2020-01-06 -0.021801 -0.004330  0.007645  0.014776  ...  0.037096  0.019072   \n",
      "2020-01-07  0.028477 -0.002897 -0.009450  0.002089  ...  0.003596  0.038067   \n",
      "2020-01-08 -0.000649 -0.008743  0.000756 -0.007839  ...  0.014794  0.048033   \n",
      "2020-01-09  0.006313  0.023555  0.002976  0.004788  ...  0.040311 -0.022189   \n",
      "\n",
      "ticker          TTWO      VRSK      VRSN      VRTX       WBA       WBD  \\\n",
      "date                                                                     \n",
      "2020-01-03  0.001064  0.009681  0.020876 -0.006721  0.000000 -0.005914   \n",
      "2020-01-06  0.020090  0.002291  0.009217  0.027377  0.008595 -0.002188   \n",
      "2020-01-07  0.006555  0.008335  0.002316 -0.001072 -0.005047  0.003436   \n",
      "2020-01-08  0.018238  0.009165  0.004615  0.032099 -0.060129  0.001247   \n",
      "2020-01-09  0.001564  0.009592  0.022905 -0.003598 -0.020813  0.004351   \n",
      "\n",
      "ticker           XEL        ZS  \n",
      "date                            \n",
      "2020-01-03  0.004798  0.001056  \n",
      "2020-01-06 -0.001437  0.027479  \n",
      "2020-01-07 -0.002079 -0.006179  \n",
      "2020-01-08 -0.000961  0.047412  \n",
      "2020-01-09  0.002241  0.062072  \n",
      "\n",
      "[5 rows x 92 columns]\n"
     ]
    }
   ],
   "source": [
    "import pandas as pd\n",
    "import numpy as np\n",
    "from sqlalchemy import create_engine\n",
    "\n",
    "# --- PostgreSQL Connection ---\n",
    "engine = create_engine('postgresql://akilfiros:@127.0.0.1:5432/postgres')\n",
    "\n",
    "# --- Load historical price data ---\n",
    "query = \"SELECT date, ticker, close FROM financial_data\"\n",
    "df = pd.read_sql(query, engine)\n",
    "df['date'] = pd.to_datetime(df['date'])\n",
    "\n",
    "# --- Pivot to get price matrix [date x ticker] ---\n",
    "price_df = df.pivot(index='date', columns='ticker', values='close').sort_index()\n",
    "price_df = price_df.dropna(axis=1)  # Drop tickers with missing data\n",
    "\n",
    "# --- Compute log returns ---\n",
    "log_returns = np.log(price_df / price_df.shift(1)).dropna()\n",
    "\n",
    "# ✅ Preview\n",
    "print(\"Log returns shape:\", log_returns.shape)\n",
    "print(log_returns.head())\n"
   ]
  },
  {
   "cell_type": "markdown",
   "metadata": {},
   "source": [
    "calculating expected returns & covariance matirx "
   ]
  },
  {
   "cell_type": "code",
   "execution_count": 3,
   "metadata": {},
   "outputs": [
    {
     "name": "stdout",
     "output_type": "stream",
     "text": [
      "✅ Expected Returns (annualized):\n",
      "ticker\n",
      "AAPL    0.188583\n",
      "ADBE    0.025454\n",
      "ADI     0.109049\n",
      "ADP     0.129259\n",
      "AEP     0.061917\n",
      "dtype: float64\n",
      "\n",
      "✅ Covariance Matrix (annualized):\n",
      "ticker      AAPL      ADBE       ADI       ADP       AEP\n",
      "ticker                                                  \n",
      "AAPL    0.107145  0.078212  0.074367  0.049137  0.026762\n",
      "ADBE    0.078212  0.153232  0.081179  0.052999  0.020500\n",
      "ADI     0.074367  0.081179  0.136338  0.055804  0.022214\n",
      "ADP     0.049137  0.052999  0.055804  0.076025  0.033876\n",
      "AEP     0.026762  0.020500  0.022214  0.033876  0.060987\n"
     ]
    }
   ],
   "source": [
    "# Assuming 252 trading days per year\n",
    "expected_returns = log_returns.mean() * 252\n",
    "\n",
    "# --- Compute annualized covariance matrix ---\n",
    "cov_matrix = log_returns.cov() * 252\n",
    "\n",
    "# --- Preview ---\n",
    "print(\"✅ Expected Returns (annualized):\")\n",
    "print(expected_returns.head())\n",
    "\n",
    "print(\"\\n✅ Covariance Matrix (annualized):\")\n",
    "print(cov_matrix.iloc[:5, :5])  # Show a 5x5 slice\n"
   ]
  },
  {
   "cell_type": "code",
   "execution_count": 4,
   "metadata": {},
   "outputs": [
    {
     "name": "stdout",
     "output_type": "stream",
     "text": [
      "✅ Optimal Weights (Minimum Variance Portfolio):\n",
      "KDP     1.792750e-01\n",
      "GILD    1.400231e-01\n",
      "AEP     1.286571e-01\n",
      "AZN     1.027372e-01\n",
      "COST    1.010828e-01\n",
      "EA      9.360043e-02\n",
      "PCAR    5.675562e-02\n",
      "REGN    3.058151e-02\n",
      "MAR     3.016993e-02\n",
      "NTES    2.292824e-02\n",
      "TTWO    2.291728e-02\n",
      "MDLZ    2.273541e-02\n",
      "KHC     2.021772e-02\n",
      "TCOM    1.759886e-02\n",
      "ORLY    1.574071e-02\n",
      "DLTR    9.147910e-03\n",
      "PANW    3.991462e-03\n",
      "AMGN    1.839696e-03\n",
      "MCHP    3.634374e-17\n",
      "LRCX    3.454401e-17\n",
      "GOOG    2.637643e-17\n",
      "ADP     2.540928e-17\n",
      "ADI     2.232876e-17\n",
      "CSX     2.149076e-17\n",
      "CDW     2.142107e-17\n",
      "ILMN    1.636428e-17\n",
      "AVGO    1.493871e-17\n",
      "AMAT    1.413364e-17\n",
      "CTAS    1.328084e-17\n",
      "AMD     1.316125e-17\n",
      "BIIB    1.256055e-17\n",
      "ANSS    1.229979e-17\n",
      "MSTR    1.110168e-17\n",
      "MRVL    1.083597e-17\n",
      "SBUX    1.000519e-17\n",
      "MELI    9.637010e-18\n",
      "MSFT    9.186955e-18\n",
      "MTCH    8.466155e-18\n",
      "SNPS    6.410464e-18\n",
      "AXON    5.688195e-18\n",
      "VRTX    5.141235e-18\n",
      "CDNS    4.386370e-18\n",
      "META    4.219155e-18\n",
      "DOCU    4.051757e-18\n",
      "TEAM    2.687576e-18\n",
      "BKNG    2.440523e-18\n",
      "SMCI    2.010871e-18\n",
      "CTSH    1.334071e-18\n",
      "PEP     1.082056e-18\n",
      "DXCM    9.661616e-19\n",
      "CSCO    5.761621e-19\n",
      "ISRG    3.004176e-19\n",
      "dtype: float64\n"
     ]
    }
   ],
   "source": [
    "# --- Prepare data ---\n",
    "tickers = expected_returns.index.tolist()\n",
    "mu = expected_returns.values\n",
    "cov = cov_matrix.values\n",
    "n_assets = len(tickers)\n",
    "\n",
    "# --- Objective function: portfolio variance ---\n",
    "def portfolio_variance(weights, cov_matrix):\n",
    "    return weights.T @ cov_matrix @ weights\n",
    "\n",
    "# --- Constraints: fully invested ---\n",
    "constraints = [{'type': 'eq', 'fun': lambda w: np.sum(w) - 1}]\n",
    "\n",
    "# --- Bounds: long-only portfolio (0 <= w <= 1) ---\n",
    "bounds = [(0.0, 1.0) for _ in range(n_assets)]\n",
    "\n",
    "# --- Initial guess: equal weighting ---\n",
    "w0 = np.ones(n_assets) / n_assets\n",
    "\n",
    "# --- Solve optimization ---\n",
    "result = minimize(portfolio_variance, w0, args=(cov,), method='SLSQP',\n",
    "                  bounds=bounds, constraints=constraints)\n",
    "\n",
    "# --- Extract optimal weights ---\n",
    "optimal_weights = pd.Series(result.x, index=tickers)\n",
    "\n",
    "# --- Display result ---\n",
    "print(\"✅ Optimal Weights (Minimum Variance Portfolio):\")\n",
    "print(optimal_weights[optimal_weights > 0].sort_values(ascending=False))\n"
   ]
  },
  {
   "cell_type": "markdown",
   "metadata": {},
   "source": [
    "\n",
    "- These are the optimal asset weights (allocations) that minimize the total portfolio variance, assuming:\n",
    "    - Full investment (sum = 1)\n",
    "    - No short selling (weights ≥ 0)\n",
    "- Assets with very small values (e.g., 1e-17) are essentially excluded from the portfolio — their weight is effectively zero."
   ]
  },
  {
   "cell_type": "markdown",
   "metadata": {},
   "source": [
    "Calculating for Constrained Portfolio Optimization (Target Return + Max Weight)"
   ]
  },
  {
   "cell_type": "code",
   "execution_count": 5,
   "metadata": {},
   "outputs": [
    {
     "name": "stdout",
     "output_type": "stream",
     "text": [
      "✅ Constrained Optimal Weights:\n",
      "GILD     1.000000e-01\n",
      "AEP      1.000000e-01\n",
      "EA       1.000000e-01\n",
      "KDP      1.000000e-01\n",
      "COST     1.000000e-01\n",
      "AZN      1.000000e-01\n",
      "PCAR     6.624417e-02\n",
      "MDLZ     5.976755e-02\n",
      "REGN     4.738069e-02\n",
      "KHC      4.419240e-02\n",
      "MAR      3.335441e-02\n",
      "ORLY     3.006236e-02\n",
      "NTES     2.788278e-02\n",
      "TTWO     2.481642e-02\n",
      "AMGN     2.246658e-02\n",
      "TCOM     1.831134e-02\n",
      "DLTR     1.390944e-02\n",
      "XEL      6.549449e-03\n",
      "PANW     3.646597e-03\n",
      "WBA      1.415808e-03\n",
      "PEP      4.114538e-17\n",
      "BIDU     3.025125e-17\n",
      "QCOM     2.580810e-17\n",
      "MU       2.099247e-17\n",
      "KLAC     1.977335e-17\n",
      "CTAS     1.948191e-17\n",
      "FAST     1.854118e-17\n",
      "OKTA     1.726911e-17\n",
      "AVGO     1.717654e-17\n",
      "CHTR     1.662152e-17\n",
      "SBUX     1.601021e-17\n",
      "VRSK     1.590026e-17\n",
      "ON       1.570523e-17\n",
      "CDW      1.506206e-17\n",
      "INTC     1.447309e-17\n",
      "BIIB     1.268534e-17\n",
      "LULU     1.161516e-17\n",
      "PDD      1.032470e-17\n",
      "MNST     9.926441e-18\n",
      "ADI      9.593299e-18\n",
      "MSFT     8.873720e-18\n",
      "VRSN     7.977628e-18\n",
      "ANSS     7.503180e-18\n",
      "SMCI     6.633186e-18\n",
      "MELI     5.984171e-18\n",
      "ADP      5.257801e-18\n",
      "ODFL     5.203243e-18\n",
      "IDXX     4.606455e-18\n",
      "META     4.358756e-18\n",
      "TEAM     4.342951e-18\n",
      "HON      3.999606e-18\n",
      "WBD      3.884410e-18\n",
      "AXON     3.692758e-18\n",
      "CSX      3.522187e-18\n",
      "GOOGL    2.863387e-18\n",
      "EXC      2.526575e-18\n",
      "SNPS     2.207584e-18\n",
      "AAPL     1.531796e-18\n",
      "MTCH     6.852233e-19\n",
      "INTU     2.541781e-19\n",
      "dtype: float64\n"
     ]
    }
   ],
   "source": [
    "# --- Target return: e.g., at least 5% annual return ---\n",
    "target_return = 0.05\n",
    "\n",
    "# --- Objective: minimize portfolio variance ---\n",
    "def portfolio_variance(weights, cov_matrix):\n",
    "    return weights.T @ cov_matrix @ weights\n",
    "\n",
    "# --- Constraints: fully invested + target return ---\n",
    "constraints = [\n",
    "    {'type': 'eq', 'fun': lambda w: np.sum(w) - 1},  # weights sum to 1\n",
    "    {'type': 'ineq', 'fun': lambda w: w @ mu - target_return}  # return constraint\n",
    "]\n",
    "\n",
    "# --- Bounds: long-only + max 10% in any asset ---\n",
    "max_weight = 0.10\n",
    "bounds = [(0.0, max_weight) for _ in range(n_assets)]\n",
    "\n",
    "# --- Initial guess ---\n",
    "w0 = np.ones(n_assets) / n_assets\n",
    "\n",
    "# --- Solve ---\n",
    "result_constrained = minimize(portfolio_variance, w0, args=(cov,), method='SLSQP',\n",
    "                              bounds=bounds, constraints=constraints)\n",
    "\n",
    "# --- Extract optimal weights ---\n",
    "optimal_weights_constrained = pd.Series(result_constrained.x, index=tickers)\n",
    "\n",
    "# --- Display non-zero weights ---\n",
    "print(\"✅ Constrained Optimal Weights:\")\n",
    "print(optimal_weights_constrained[optimal_weights_constrained > 0].sort_values(ascending=False))"
   ]
  },
  {
   "cell_type": "markdown",
   "metadata": {},
   "source": [
    "\n",
    "- Enforced param:\n",
    "    - Target return ≥ 5%\n",
    "    - Max weight = 10% per asset\n",
    "    - Long-only constraint (no negative weights)\n",
    "- As a result:\n",
    "    - Assets like EA, AZN, KDP, AEP, and GILD hit the maximum allowed allocation of 10% — they are likely low-risk, high-return contributors.\n",
    "    - Several other assets have near-zero weights (e.g., MRVL, MSTR) — the optimizer deems them suboptimal under your constraints.\n"
   ]
  },
  {
   "cell_type": "markdown",
   "metadata": {},
   "source": [
    "Saving connstrained weights to the sql \n"
   ]
  },
  {
   "cell_type": "code",
   "execution_count": 6,
   "metadata": {},
   "outputs": [
    {
     "name": "stdout",
     "output_type": "stream",
     "text": [
      "✅ Optimal weights saved to PostgreSQL table: optimal_portfolio_weights\n"
     ]
    }
   ],
   "source": [
    "from sqlalchemy import create_engine\n",
    "\n",
    "# --- Prepare final weights table ---\n",
    "weights_df = optimal_weights_constrained.reset_index()\n",
    "weights_df.columns = ['ticker', 'weight']\n",
    "weights_df = weights_df[weights_df['weight'] > 0].sort_values(by='weight', ascending=False)\n",
    "\n",
    "# --- Save to PostgreSQL ---\n",
    "engine = create_engine('postgresql://akilfiros:@127.0.0.1:5432/postgres')\n",
    "weights_df.to_sql(\"optimal_portfolio_weights\", engine, if_exists='replace', index=False)\n",
    "\n",
    "print(\"✅ Optimal weights saved to PostgreSQL table: optimal_portfolio_weights\")"
   ]
  }
 ],
 "metadata": {
  "kernelspec": {
   "display_name": "conda_python_env_3.11.10",
   "language": "python",
   "name": "python3"
  },
  "language_info": {
   "codemirror_mode": {
    "name": "ipython",
    "version": 3
   },
   "file_extension": ".py",
   "mimetype": "text/x-python",
   "name": "python",
   "nbconvert_exporter": "python",
   "pygments_lexer": "ipython3",
   "version": "3.11.10"
  }
 },
 "nbformat": 4,
 "nbformat_minor": 2
}
