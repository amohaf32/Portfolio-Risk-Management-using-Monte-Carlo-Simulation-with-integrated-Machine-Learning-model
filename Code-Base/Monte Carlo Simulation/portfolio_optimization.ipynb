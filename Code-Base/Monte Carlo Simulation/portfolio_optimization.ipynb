{
 "cells": [
  {
   "cell_type": "code",
   "execution_count": 10,
   "metadata": {},
   "outputs": [],
   "source": [
    "from scipy.optimize import minimize"
   ]
  },
  {
   "cell_type": "markdown",
   "metadata": {},
   "source": [
    "loading data from the sql "
   ]
  },
  {
   "cell_type": "code",
   "execution_count": 11,
   "metadata": {},
   "outputs": [
    {
     "name": "stdout",
     "output_type": "stream",
     "text": [
      "Log returns shape: (1333, 92)\n",
      "ticker          AAPL      ADBE       ADI       ADP       AEP      ALGN  \\\n",
      "date                                                                     \n",
      "2020-01-03 -0.009770 -0.007865 -0.017760 -0.002116 -0.001071 -0.011487   \n",
      "2020-01-06  0.007937  0.005710 -0.011818  0.001352  0.003315  0.019212   \n",
      "2020-01-07 -0.004714 -0.000959  0.022496 -0.012178  0.000213 -0.009913   \n",
      "2020-01-08  0.015958  0.013348  0.008991  0.009354 -0.002993  0.010333   \n",
      "2020-01-09  0.021019  0.007607  0.000000  0.008800  0.005019  0.036190   \n",
      "\n",
      "ticker          AMAT       AMD      AMGN      AMZN  ...      TEAM      TSLA  \\\n",
      "date                                                ...                       \n",
      "2020-01-03 -0.016044 -0.010236 -0.006812 -0.012213  ...  0.001301  0.029203   \n",
      "2020-01-06 -0.021801 -0.004330  0.007645  0.014776  ...  0.037096  0.019072   \n",
      "2020-01-07  0.028477 -0.002897 -0.009449  0.002089  ...  0.003596  0.038067   \n",
      "2020-01-08 -0.000649 -0.008743  0.000756 -0.007839  ...  0.014794  0.048033   \n",
      "2020-01-09  0.006313  0.023555  0.002976  0.004788  ...  0.040311 -0.022189   \n",
      "\n",
      "ticker          TTWO      VRSK      VRSN      VRTX       WBA       WBD  \\\n",
      "date                                                                     \n",
      "2020-01-03  0.001064  0.009680  0.020876 -0.006721  0.000000 -0.005914   \n",
      "2020-01-06  0.020090  0.002291  0.009217  0.027377  0.008595 -0.002188   \n",
      "2020-01-07  0.006555  0.008334  0.002316 -0.001072 -0.005047  0.003436   \n",
      "2020-01-08  0.018238  0.009166  0.004615  0.032099 -0.060129  0.001247   \n",
      "2020-01-09  0.001564  0.009591  0.022905 -0.003598 -0.020813  0.004351   \n",
      "\n",
      "ticker           XEL        ZS  \n",
      "date                            \n",
      "2020-01-03  0.004798  0.001056  \n",
      "2020-01-06 -0.001437  0.027479  \n",
      "2020-01-07 -0.002079 -0.006179  \n",
      "2020-01-08 -0.000961  0.047412  \n",
      "2020-01-09  0.002241  0.062072  \n",
      "\n",
      "[5 rows x 92 columns]\n"
     ]
    }
   ],
   "source": [
    "import pandas as pd\n",
    "import numpy as np\n",
    "from sqlalchemy import create_engine\n",
    "\n",
    "# --- PostgreSQL Connection ---\n",
    "engine = create_engine('postgresql://akilfiros:@127.0.0.1:5432/postgres')\n",
    "\n",
    "# --- Load historical price data ---\n",
    "query = \"SELECT date, ticker, close FROM financial_data\"\n",
    "df = pd.read_sql(query, engine)\n",
    "df['date'] = pd.to_datetime(df['date'])\n",
    "\n",
    "# --- Pivot to get price matrix [date x ticker] ---\n",
    "price_df = df.pivot(index='date', columns='ticker', values='close').sort_index()\n",
    "price_df = price_df.dropna(axis=1)  # Drop tickers with missing data\n",
    "\n",
    "# --- Compute log returns ---\n",
    "log_returns = np.log(price_df / price_df.shift(1)).dropna()\n",
    "\n",
    "# ✅ Preview\n",
    "print(\"Log returns shape:\", log_returns.shape)\n",
    "print(log_returns.head())\n"
   ]
  },
  {
   "cell_type": "markdown",
   "metadata": {},
   "source": [
    "calculating expected returns & covariance matirx "
   ]
  },
  {
   "cell_type": "code",
   "execution_count": 12,
   "metadata": {},
   "outputs": [
    {
     "name": "stdout",
     "output_type": "stream",
     "text": [
      "✅ Expected Returns (annualized):\n",
      "ticker\n",
      "AAPL    0.195568\n",
      "ADBE    0.009658\n",
      "ADI     0.097311\n",
      "ADP     0.123929\n",
      "AEP     0.061595\n",
      "dtype: float64\n",
      "\n",
      "✅ Covariance Matrix (annualized):\n",
      "ticker      AAPL      ADBE       ADI       ADP       AEP\n",
      "ticker                                                  \n",
      "AAPL    0.107306  0.078754  0.074804  0.049564  0.026940\n",
      "ADBE    0.078754  0.153997  0.081360  0.053288  0.020636\n",
      "ADI     0.074804  0.081360  0.136307  0.056034  0.022406\n",
      "ADP     0.049564  0.053288  0.056034  0.076400  0.034079\n",
      "AEP     0.026940  0.020636  0.022406  0.034079  0.061350\n"
     ]
    }
   ],
   "source": [
    "# Assuming 252 trading days per year\n",
    "expected_returns = log_returns.mean() * 252\n",
    "\n",
    "# --- Compute annualized covariance matrix ---\n",
    "cov_matrix = log_returns.cov() * 252\n",
    "\n",
    "# --- Preview ---\n",
    "print(\"✅ Expected Returns (annualized):\")\n",
    "print(expected_returns.head())\n",
    "\n",
    "print(\"\\n✅ Covariance Matrix (annualized):\")\n",
    "print(cov_matrix.iloc[:5, :5])  # Show a 5x5 slice\n"
   ]
  },
  {
   "cell_type": "code",
   "execution_count": 13,
   "metadata": {},
   "outputs": [
    {
     "name": "stdout",
     "output_type": "stream",
     "text": [
      "✅ Optimal Weights (Minimum Variance Portfolio):\n",
      "KDP      1.797229e-01\n",
      "GILD     1.425477e-01\n",
      "AEP      1.262701e-01\n",
      "AZN      1.039419e-01\n",
      "COST     1.005409e-01\n",
      "EA       9.508363e-02\n",
      "PCAR     5.621279e-02\n",
      "REGN     3.336275e-02\n",
      "MAR      2.981267e-02\n",
      "NTES     2.363510e-02\n",
      "MDLZ     2.230512e-02\n",
      "KHC      1.949568e-02\n",
      "TTWO     1.881642e-02\n",
      "TCOM     1.729492e-02\n",
      "ORLY     1.488574e-02\n",
      "DLTR     9.929543e-03\n",
      "PANW     4.405840e-03\n",
      "AMGN     1.736242e-03\n",
      "ADI      6.529003e-17\n",
      "ALGN     3.949031e-17\n",
      "ADBE     2.949523e-17\n",
      "GOOG     2.675874e-17\n",
      "TSLA     2.277339e-17\n",
      "KLAC     1.699253e-17\n",
      "CTAS     1.103287e-17\n",
      "INTC     1.035093e-17\n",
      "NXPI     1.034166e-17\n",
      "SNPS     1.028934e-17\n",
      "SMCI     9.472281e-18\n",
      "AXON     9.140418e-18\n",
      "QCOM     8.211398e-18\n",
      "MU       8.100045e-18\n",
      "PEP      7.024982e-18\n",
      "DDOG     6.753539e-18\n",
      "VRSN     6.367585e-18\n",
      "DXCM     5.865500e-18\n",
      "MSFT     5.643939e-18\n",
      "ODFL     5.526984e-18\n",
      "XEL      4.811667e-18\n",
      "NVDA     4.542031e-18\n",
      "MTCH     3.198064e-18\n",
      "WBA      3.086078e-18\n",
      "FTNT     2.876317e-18\n",
      "EXC      2.832817e-18\n",
      "VRTX     2.497839e-18\n",
      "CRWD     1.577303e-18\n",
      "CDNS     1.190093e-18\n",
      "MNST     5.981533e-19\n",
      "ISRG     3.447844e-19\n",
      "MELI     2.896405e-19\n",
      "GOOGL    1.005670e-19\n",
      "dtype: float64\n"
     ]
    }
   ],
   "source": [
    "# --- Prepare data ---\n",
    "tickers = expected_returns.index.tolist()\n",
    "mu = expected_returns.values\n",
    "cov = cov_matrix.values\n",
    "n_assets = len(tickers)\n",
    "\n",
    "# --- Objective function: portfolio variance ---\n",
    "def portfolio_variance(weights, cov_matrix):\n",
    "    return weights.T @ cov_matrix @ weights\n",
    "\n",
    "# --- Constraints: fully invested ---\n",
    "constraints = [{'type': 'eq', 'fun': lambda w: np.sum(w) - 1}]\n",
    "\n",
    "# --- Bounds: long-only portfolio (0 <= w <= 1) ---\n",
    "bounds = [(0.0, 1.0) for _ in range(n_assets)]\n",
    "\n",
    "# --- Initial guess: equal weighting ---\n",
    "w0 = np.ones(n_assets) / n_assets\n",
    "\n",
    "# --- Solve optimization ---\n",
    "result = minimize(portfolio_variance, w0, args=(cov,), method='SLSQP',\n",
    "                  bounds=bounds, constraints=constraints)\n",
    "\n",
    "# --- Extract optimal weights ---\n",
    "optimal_weights = pd.Series(result.x, index=tickers)\n",
    "\n",
    "# --- Display result ---\n",
    "print(\"✅ Optimal Weights (Minimum Variance Portfolio):\")\n",
    "print(optimal_weights[optimal_weights > 0].sort_values(ascending=False))\n"
   ]
  },
  {
   "cell_type": "markdown",
   "metadata": {},
   "source": [
    "\n",
    "- These are the optimal asset weights (allocations) that minimize the total portfolio variance, assuming:\n",
    "    - Full investment (sum = 1)\n",
    "    - No short selling (weights ≥ 0)\n",
    "- Assets with very small values (e.g., 1e-17) are essentially excluded from the portfolio — their weight is effectively zero."
   ]
  },
  {
   "cell_type": "markdown",
   "metadata": {},
   "source": [
    "Calculating for Constrained Portfolio Optimization (Target Return + Max Weight)"
   ]
  },
  {
   "cell_type": "code",
   "execution_count": 14,
   "metadata": {},
   "outputs": [
    {
     "name": "stdout",
     "output_type": "stream",
     "text": [
      "✅ Constrained Optimal Weights:\n",
      "COST     1.000000e-01\n",
      "AEP      1.000000e-01\n",
      "KDP      1.000000e-01\n",
      "GILD     1.000000e-01\n",
      "AZN      1.000000e-01\n",
      "EA       1.000000e-01\n",
      "PCAR     6.697239e-02\n",
      "MDLZ     6.463593e-02\n",
      "REGN     5.048294e-02\n",
      "KHC      4.412045e-02\n",
      "MAR      3.365828e-02\n",
      "ORLY     2.962573e-02\n",
      "NTES     2.698515e-02\n",
      "TTWO     2.237375e-02\n",
      "AMGN     2.156399e-02\n",
      "TCOM     1.817852e-02\n",
      "DLTR     1.426197e-02\n",
      "PANW     5.504696e-03\n",
      "XEL      1.315616e-03\n",
      "WBA      3.205777e-04\n",
      "AMAT     5.277493e-17\n",
      "MELI     3.574802e-17\n",
      "PEP      3.490911e-17\n",
      "MCHP     3.291873e-17\n",
      "ADI      3.013572e-17\n",
      "CTSH     2.634285e-17\n",
      "ILMN     2.259208e-17\n",
      "INTU     2.218804e-17\n",
      "KLAC     2.198793e-17\n",
      "BIDU     1.912670e-17\n",
      "AAPL     1.634000e-17\n",
      "QCOM     1.495951e-17\n",
      "MSFT     1.246230e-17\n",
      "PDD      9.656648e-18\n",
      "MTCH     9.286499e-18\n",
      "CRWD     8.318921e-18\n",
      "NVDA     6.519116e-18\n",
      "IDXX     5.396356e-18\n",
      "NXPI     3.987341e-18\n",
      "ISRG     3.240346e-18\n",
      "DOCU     3.022688e-18\n",
      "DXCM     2.395128e-18\n",
      "DDOG     2.011807e-18\n",
      "CDNS     1.937632e-18\n",
      "ODFL     1.169846e-18\n",
      "PAYX     6.468851e-19\n",
      "MNST     5.915785e-19\n",
      "VRSN     4.482348e-19\n",
      "GOOGL    1.759421e-19\n",
      "dtype: float64\n"
     ]
    }
   ],
   "source": [
    "# --- Target return: e.g., at least 5% annual return ---\n",
    "target_return = 0.05\n",
    "\n",
    "# --- Objective: minimize portfolio variance ---\n",
    "def portfolio_variance(weights, cov_matrix):\n",
    "    return weights.T @ cov_matrix @ weights\n",
    "\n",
    "# --- Constraints: fully invested + target return ---\n",
    "constraints = [\n",
    "    {'type': 'eq', 'fun': lambda w: np.sum(w) - 1},  # weights sum to 1\n",
    "    {'type': 'ineq', 'fun': lambda w: w @ mu - target_return}  # return constraint\n",
    "]\n",
    "\n",
    "# --- Bounds: long-only + max 10% in any asset ---\n",
    "max_weight = 0.10\n",
    "bounds = [(0.0, max_weight) for _ in range(n_assets)]\n",
    "\n",
    "# --- Initial guess ---\n",
    "w0 = np.ones(n_assets) / n_assets\n",
    "\n",
    "# --- Solve ---\n",
    "result_constrained = minimize(portfolio_variance, w0, args=(cov,), method='SLSQP',\n",
    "                              bounds=bounds, constraints=constraints)\n",
    "\n",
    "# --- Extract optimal weights ---\n",
    "optimal_weights_constrained = pd.Series(result_constrained.x, index=tickers)\n",
    "\n",
    "# --- Display non-zero weights ---\n",
    "print(\"✅ Constrained Optimal Weights:\")\n",
    "print(optimal_weights_constrained[optimal_weights_constrained > 0].sort_values(ascending=False))"
   ]
  },
  {
   "cell_type": "markdown",
   "metadata": {},
   "source": [
    "\n",
    "- Enforced param:\n",
    "    - Target return ≥ 5%\n",
    "    - Max weight = 10% per asset\n",
    "    - Long-only constraint (no negative weights)\n",
    "- As a result:\n",
    "    - Assets like EA, AZN, KDP, AEP, and GILD hit the maximum allowed allocation of 10% — they are likely low-risk, high-return contributors.\n",
    "    - Several other assets have near-zero weights (e.g., MRVL, MSTR) — the optimizer deems them suboptimal under your constraints.\n"
   ]
  },
  {
   "cell_type": "markdown",
   "metadata": {},
   "source": [
    "Saving connstrained weights to the sql \n"
   ]
  },
  {
   "cell_type": "code",
   "execution_count": 15,
   "metadata": {},
   "outputs": [
    {
     "name": "stdout",
     "output_type": "stream",
     "text": [
      "✅ Optimal weights saved to PostgreSQL table: optimal_portfolio_weights\n"
     ]
    }
   ],
   "source": [
    "from sqlalchemy import create_engine\n",
    "\n",
    "# --- Prepare final weights table ---\n",
    "weights_df = optimal_weights_constrained.reset_index()\n",
    "weights_df.columns = ['ticker', 'weight']\n",
    "weights_df = weights_df[weights_df['weight'] > 0].sort_values(by='weight', ascending=False)\n",
    "\n",
    "# --- Save to PostgreSQL ---\n",
    "engine = create_engine('postgresql://akilfiros:@127.0.0.1:5432/postgres')\n",
    "weights_df.to_sql(\"optimal_portfolio_weights\", engine, if_exists='replace', index=False)\n",
    "\n",
    "print(\"✅ Optimal weights saved to PostgreSQL table: optimal_portfolio_weights\")"
   ]
  }
 ],
 "metadata": {
  "kernelspec": {
   "display_name": "conda_python_env_3.11.10",
   "language": "python",
   "name": "python3"
  },
  "language_info": {
   "codemirror_mode": {
    "name": "ipython",
    "version": 3
   },
   "file_extension": ".py",
   "mimetype": "text/x-python",
   "name": "python",
   "nbconvert_exporter": "python",
   "pygments_lexer": "ipython3",
   "version": "3.11.10"
  }
 },
 "nbformat": 4,
 "nbformat_minor": 2
}
