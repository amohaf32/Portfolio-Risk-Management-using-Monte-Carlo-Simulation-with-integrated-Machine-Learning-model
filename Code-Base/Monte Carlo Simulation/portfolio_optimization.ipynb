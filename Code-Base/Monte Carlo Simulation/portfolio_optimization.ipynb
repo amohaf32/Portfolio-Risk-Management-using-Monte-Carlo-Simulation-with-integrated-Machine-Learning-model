{
 "cells": [
  {
   "cell_type": "code",
   "execution_count": 4,
   "metadata": {},
   "outputs": [],
   "source": [
    "from scipy.optimize import minimize"
   ]
  },
  {
   "cell_type": "markdown",
   "metadata": {},
   "source": [
    "loading data from the sql "
   ]
  },
  {
   "cell_type": "code",
   "execution_count": 5,
   "metadata": {},
   "outputs": [
    {
     "name": "stdout",
     "output_type": "stream",
     "text": [
      "Log returns shape: (1256, 92)\n",
      "ticker          AAPL      ADBE       ADI       ADP       AEP      ALGN  \\\n",
      "date                                                                     \n",
      "2020-01-03 -0.009770 -0.007865 -0.017760 -0.002116 -0.001071 -0.011487   \n",
      "2020-01-06  0.007937  0.005710 -0.011818  0.001352  0.003315  0.019212   \n",
      "2020-01-07 -0.004714 -0.000959  0.022496 -0.012178  0.000213 -0.009913   \n",
      "2020-01-08  0.015959  0.013348  0.008991  0.009354 -0.002993  0.010333   \n",
      "2020-01-09  0.021018  0.007607  0.000000  0.008800  0.005019  0.036190   \n",
      "\n",
      "ticker          AMAT       AMD      AMGN      AMZN  ...      TEAM      TSLA  \\\n",
      "date                                                ...                       \n",
      "2020-01-03 -0.016044 -0.010236 -0.006812 -0.012213  ...  0.001301  0.029203   \n",
      "2020-01-06 -0.021801 -0.004330  0.007645  0.014776  ...  0.037096  0.019072   \n",
      "2020-01-07  0.028477 -0.002897 -0.009450  0.002089  ...  0.003596  0.038067   \n",
      "2020-01-08 -0.000649 -0.008743  0.000756 -0.007839  ...  0.014794  0.048033   \n",
      "2020-01-09  0.006313  0.023555  0.002976  0.004788  ...  0.040311 -0.022189   \n",
      "\n",
      "ticker          TTWO      VRSK      VRSN      VRTX       WBA       WBD  \\\n",
      "date                                                                     \n",
      "2020-01-03  0.001064  0.009680  0.020876 -0.006721  0.000000 -0.005914   \n",
      "2020-01-06  0.020090  0.002291  0.009217  0.027377  0.008595 -0.002188   \n",
      "2020-01-07  0.006555  0.008334  0.002316 -0.001072 -0.005047  0.003436   \n",
      "2020-01-08  0.018238  0.009165  0.004615  0.032099 -0.060129  0.001247   \n",
      "2020-01-09  0.001564  0.009591  0.022905 -0.003598 -0.020813  0.004351   \n",
      "\n",
      "ticker           XEL        ZS  \n",
      "date                            \n",
      "2020-01-03  0.004797  0.001056  \n",
      "2020-01-06 -0.001437  0.027479  \n",
      "2020-01-07 -0.002079 -0.006179  \n",
      "2020-01-08 -0.000961  0.047412  \n",
      "2020-01-09  0.002241  0.062072  \n",
      "\n",
      "[5 rows x 92 columns]\n"
     ]
    }
   ],
   "source": [
    "import pandas as pd\n",
    "import numpy as np\n",
    "from sqlalchemy import create_engine\n",
    "\n",
    "# --- PostgreSQL Connection ---\n",
    "engine = create_engine('postgresql://akilfiros:@127.0.0.1:5432/postgres')\n",
    "\n",
    "# --- Load historical price data ---\n",
    "query = \"SELECT date, ticker, close FROM financial_data\"\n",
    "df = pd.read_sql(query, engine)\n",
    "df['date'] = pd.to_datetime(df['date'])\n",
    "\n",
    "# --- Pivot to get price matrix [date x ticker] ---\n",
    "price_df = df.pivot(index='date', columns='ticker', values='close').sort_index()\n",
    "price_df = price_df.dropna(axis=1)  # Drop tickers with missing data\n",
    "\n",
    "# --- Compute log returns ---\n",
    "log_returns = np.log(price_df / price_df.shift(1)).dropna()\n",
    "\n",
    "# ✅ Preview\n",
    "print(\"Log returns shape:\", log_returns.shape)\n",
    "print(log_returns.head())\n"
   ]
  },
  {
   "cell_type": "markdown",
   "metadata": {},
   "source": [
    "calculating expected returns & covariance matirx "
   ]
  },
  {
   "cell_type": "code",
   "execution_count": 6,
   "metadata": {},
   "outputs": [
    {
     "name": "stdout",
     "output_type": "stream",
     "text": [
      "✅ Expected Returns (annualized):\n",
      "ticker\n",
      "AAPL    0.249304\n",
      "ADBE    0.057672\n",
      "ADI     0.132328\n",
      "ADP     0.130070\n",
      "AEP     0.033292\n",
      "dtype: float64\n",
      "\n",
      "✅ Covariance Matrix (annualized):\n",
      "ticker      AAPL      ADBE       ADI       ADP       AEP\n",
      "ticker                                                  \n",
      "AAPL    0.100265  0.076782  0.067680  0.047995  0.027556\n",
      "ADBE    0.076782  0.153592  0.079548  0.053579  0.021740\n",
      "ADI     0.067680  0.079548  0.126015  0.054358  0.023100\n",
      "ADP     0.047995  0.053579  0.054358  0.077391  0.034303\n",
      "AEP     0.027556  0.021740  0.023100  0.034303  0.061746\n"
     ]
    }
   ],
   "source": [
    "# Assuming 252 trading days per year\n",
    "expected_returns = log_returns.mean() * 252\n",
    "\n",
    "# --- Compute annualized covariance matrix ---\n",
    "cov_matrix = log_returns.cov() * 252\n",
    "\n",
    "# --- Preview ---\n",
    "print(\"✅ Expected Returns (annualized):\")\n",
    "print(expected_returns.head())\n",
    "\n",
    "print(\"\\n✅ Covariance Matrix (annualized):\")\n",
    "print(cov_matrix.iloc[:5, :5])  # Show a 5x5 slice\n"
   ]
  },
  {
   "cell_type": "code",
   "execution_count": 7,
   "metadata": {},
   "outputs": [
    {
     "name": "stdout",
     "output_type": "stream",
     "text": [
      "✅ Optimal Weights (Minimum Variance Portfolio):\n",
      "KDP     1.770915e-01\n",
      "GILD    1.425197e-01\n",
      "AEP     1.192630e-01\n",
      "EA      1.175635e-01\n",
      "COST    1.065420e-01\n",
      "AZN     1.054925e-01\n",
      "PCAR    5.522733e-02\n",
      "MAR     3.379642e-02\n",
      "REGN    3.274592e-02\n",
      "KHC     2.954738e-02\n",
      "TCOM    1.952500e-02\n",
      "NTES    1.892534e-02\n",
      "TTWO    1.112001e-02\n",
      "MDLZ    1.091417e-02\n",
      "ORLY    8.917609e-03\n",
      "DLTR    4.757982e-03\n",
      "PANW    3.900272e-03\n",
      "AMGN    2.150375e-03\n",
      "ADP     5.991958e-17\n",
      "CDNS    5.212991e-17\n",
      "EXC     3.546428e-17\n",
      "HON     2.867561e-17\n",
      "MTCH    2.746492e-17\n",
      "ADI     2.164018e-17\n",
      "BIDU    2.111682e-17\n",
      "LULU    2.042658e-17\n",
      "AMZN    1.885267e-17\n",
      "BKNG    1.734248e-17\n",
      "PAYX    1.616112e-17\n",
      "TSLA    1.505869e-17\n",
      "ZS      1.302769e-17\n",
      "BKR     1.251199e-17\n",
      "NVDA    1.201862e-17\n",
      "WBA     1.033459e-17\n",
      "MCHP    1.023706e-17\n",
      "IDXX    9.878210e-18\n",
      "CSCO    9.565955e-18\n",
      "ALGN    9.226053e-18\n",
      "NFLX    6.688135e-18\n",
      "INTC    6.648125e-18\n",
      "ISRG    6.445968e-18\n",
      "OKTA    6.049744e-18\n",
      "ANSS    5.827621e-18\n",
      "AXON    5.754006e-18\n",
      "MSFT    5.134822e-18\n",
      "PDD     4.969245e-18\n",
      "GOOG    2.882497e-18\n",
      "VRSN    2.856220e-18\n",
      "WBD     2.542338e-18\n",
      "SMCI    2.535268e-18\n",
      "QCOM    2.108451e-18\n",
      "DXCM    1.716952e-18\n",
      "SBUX    1.611451e-18\n",
      "INTU    1.134431e-18\n",
      "ROST    9.931591e-19\n",
      "XEL     2.564532e-19\n",
      "ODFL    8.643128e-20\n",
      "PEP     2.178144e-20\n",
      "dtype: float64\n"
     ]
    }
   ],
   "source": [
    "# --- Prepare data ---\n",
    "tickers = expected_returns.index.tolist()\n",
    "mu = expected_returns.values\n",
    "cov = cov_matrix.values\n",
    "n_assets = len(tickers)\n",
    "\n",
    "# --- Objective function: portfolio variance ---\n",
    "def portfolio_variance(weights, cov_matrix):\n",
    "    return weights.T @ cov_matrix @ weights\n",
    "\n",
    "# --- Constraints: fully invested ---\n",
    "constraints = [{'type': 'eq', 'fun': lambda w: np.sum(w) - 1}]\n",
    "\n",
    "# --- Bounds: long-only portfolio (0 <= w <= 1) ---\n",
    "bounds = [(0.0, 1.0) for _ in range(n_assets)]\n",
    "\n",
    "# --- Initial guess: equal weighting ---\n",
    "w0 = np.ones(n_assets) / n_assets\n",
    "\n",
    "# --- Solve optimization ---\n",
    "result = minimize(portfolio_variance, w0, args=(cov,), method='SLSQP',\n",
    "                  bounds=bounds, constraints=constraints)\n",
    "\n",
    "# --- Extract optimal weights ---\n",
    "optimal_weights = pd.Series(result.x, index=tickers)\n",
    "\n",
    "# --- Display result ---\n",
    "print(\"✅ Optimal Weights (Minimum Variance Portfolio):\")\n",
    "print(optimal_weights[optimal_weights > 0].sort_values(ascending=False))\n"
   ]
  },
  {
   "cell_type": "markdown",
   "metadata": {},
   "source": [
    "\n",
    "- These are the optimal asset weights (allocations) that minimize the total portfolio variance, assuming:\n",
    "    - Full investment (sum = 1)\n",
    "    - No short selling (weights ≥ 0)\n",
    "- Assets with very small values (e.g., 1e-17) are essentially excluded from the portfolio — their weight is effectively zero."
   ]
  },
  {
   "cell_type": "markdown",
   "metadata": {},
   "source": [
    "Calculating for Constrained Portfolio Optimization (Target Return + Max Weight)"
   ]
  },
  {
   "cell_type": "code",
   "execution_count": 8,
   "metadata": {},
   "outputs": [
    {
     "name": "stdout",
     "output_type": "stream",
     "text": [
      "✅ Constrained Optimal Weights:\n",
      "EA      1.000000e-01\n",
      "AZN     1.000000e-01\n",
      "KDP     1.000000e-01\n",
      "AEP     1.000000e-01\n",
      "GILD    1.000000e-01\n",
      "            ...     \n",
      "ON      1.136797e-18\n",
      "MRVL    1.088411e-18\n",
      "ROST    9.850348e-19\n",
      "FTNT    2.056117e-19\n",
      "MSTR    8.168223e-20\n",
      "Length: 63, dtype: float64\n"
     ]
    }
   ],
   "source": [
    "# --- Target return: e.g., at least 5% annual return ---\n",
    "target_return = 0.05\n",
    "\n",
    "# --- Objective: minimize portfolio variance ---\n",
    "def portfolio_variance(weights, cov_matrix):\n",
    "    return weights.T @ cov_matrix @ weights\n",
    "\n",
    "# --- Constraints: fully invested + target return ---\n",
    "constraints = [\n",
    "    {'type': 'eq', 'fun': lambda w: np.sum(w) - 1},  # weights sum to 1\n",
    "    {'type': 'ineq', 'fun': lambda w: w @ mu - target_return}  # return constraint\n",
    "]\n",
    "\n",
    "# --- Bounds: long-only + max 10% in any asset ---\n",
    "max_weight = 0.10\n",
    "bounds = [(0.0, max_weight) for _ in range(n_assets)]\n",
    "\n",
    "# --- Initial guess ---\n",
    "w0 = np.ones(n_assets) / n_assets\n",
    "\n",
    "# --- Solve ---\n",
    "result_constrained = minimize(portfolio_variance, w0, args=(cov,), method='SLSQP',\n",
    "                              bounds=bounds, constraints=constraints)\n",
    "\n",
    "# --- Extract optimal weights ---\n",
    "optimal_weights_constrained = pd.Series(result_constrained.x, index=tickers)\n",
    "\n",
    "# --- Display non-zero weights ---\n",
    "print(\"✅ Constrained Optimal Weights:\")\n",
    "print(optimal_weights_constrained[optimal_weights_constrained > 0].sort_values(ascending=False))"
   ]
  },
  {
   "cell_type": "markdown",
   "metadata": {},
   "source": [
    "\n",
    "- Enforced param:\n",
    "    - Target return ≥ 5%\n",
    "    - Max weight = 10% per asset\n",
    "    - Long-only constraint (no negative weights)\n",
    "- As a result:\n",
    "    - Assets like EA, AZN, KDP, AEP, and GILD hit the maximum allowed allocation of 10% — they are likely low-risk, high-return contributors.\n",
    "    - Several other assets have near-zero weights (e.g., MRVL, MSTR) — the optimizer deems them suboptimal under your constraints.\n"
   ]
  },
  {
   "cell_type": "markdown",
   "metadata": {},
   "source": [
    "Saving connstrained weights to the sql \n"
   ]
  },
  {
   "cell_type": "code",
   "execution_count": 9,
   "metadata": {},
   "outputs": [
    {
     "name": "stdout",
     "output_type": "stream",
     "text": [
      "✅ Optimal weights saved to PostgreSQL table: optimal_portfolio_weights\n"
     ]
    }
   ],
   "source": [
    "from sqlalchemy import create_engine\n",
    "\n",
    "# --- Prepare final weights table ---\n",
    "weights_df = optimal_weights_constrained.reset_index()\n",
    "weights_df.columns = ['ticker', 'weight']\n",
    "weights_df = weights_df[weights_df['weight'] > 0].sort_values(by='weight', ascending=False)\n",
    "\n",
    "# --- Save to PostgreSQL ---\n",
    "engine = create_engine('postgresql://akilfiros:@127.0.0.1:5432/postgres')\n",
    "weights_df.to_sql(\"optimal_portfolio_weights\", engine, if_exists='replace', index=False)\n",
    "\n",
    "print(\"✅ Optimal weights saved to PostgreSQL table: optimal_portfolio_weights\")"
   ]
  }
 ],
 "metadata": {
  "kernelspec": {
   "display_name": "conda_python_env_3.11.10",
   "language": "python",
   "name": "python3"
  },
  "language_info": {
   "codemirror_mode": {
    "name": "ipython",
    "version": 3
   },
   "file_extension": ".py",
   "mimetype": "text/x-python",
   "name": "python",
   "nbconvert_exporter": "python",
   "pygments_lexer": "ipython3",
   "version": "3.11.10"
  }
 },
 "nbformat": 4,
 "nbformat_minor": 2
}
