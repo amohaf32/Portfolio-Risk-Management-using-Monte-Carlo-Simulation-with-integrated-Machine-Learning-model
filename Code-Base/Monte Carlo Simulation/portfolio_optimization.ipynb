{
 "cells": [
  {
   "cell_type": "code",
   "execution_count": 1,
   "metadata": {},
   "outputs": [],
   "source": [
    "from scipy.optimize import minimize"
   ]
  },
  {
   "cell_type": "markdown",
   "metadata": {},
   "source": [
    "loading data from the sql "
   ]
  },
  {
   "cell_type": "code",
   "execution_count": 2,
   "metadata": {},
   "outputs": [
    {
     "name": "stdout",
     "output_type": "stream",
     "text": [
      "Log returns shape: (1342, 92)\n",
      "ticker          AAPL      ADBE       ADI       ADP       AEP      ALGN  \\\n",
      "date                                                                     \n",
      "2020-01-03 -0.009769 -0.007865 -0.017760 -0.002116 -0.001071 -0.011487   \n",
      "2020-01-06  0.007936  0.005710 -0.011818  0.001352  0.003315  0.019212   \n",
      "2020-01-07 -0.004714 -0.000959  0.022496 -0.012178  0.000214 -0.009913   \n",
      "2020-01-08  0.015958  0.013348  0.008991  0.009353 -0.002993  0.010333   \n",
      "2020-01-09  0.021019  0.007607  0.000000  0.008800  0.005019  0.036190   \n",
      "\n",
      "ticker          AMAT       AMD      AMGN      AMZN  ...      TEAM      TSLA  \\\n",
      "date                                                ...                       \n",
      "2020-01-03 -0.016044 -0.010236 -0.006812 -0.012213  ...  0.001301  0.029203   \n",
      "2020-01-06 -0.021801 -0.004330  0.007645  0.014776  ...  0.037096  0.019072   \n",
      "2020-01-07  0.028477 -0.002897 -0.009449  0.002089  ...  0.003596  0.038067   \n",
      "2020-01-08 -0.000649 -0.008743  0.000756 -0.007839  ...  0.014794  0.048033   \n",
      "2020-01-09  0.006313  0.023555  0.002976  0.004788  ...  0.040311 -0.022189   \n",
      "\n",
      "ticker          TTWO      VRSK      VRSN      VRTX       WBA       WBD  \\\n",
      "date                                                                     \n",
      "2020-01-03  0.001064  0.009681  0.020876 -0.006721  0.000000 -0.005914   \n",
      "2020-01-06  0.020090  0.002291  0.009217  0.027377  0.008595 -0.002188   \n",
      "2020-01-07  0.006555  0.008334  0.002316 -0.001072 -0.005047  0.003436   \n",
      "2020-01-08  0.018238  0.009166  0.004615  0.032099 -0.060130  0.001247   \n",
      "2020-01-09  0.001564  0.009591  0.022905 -0.003598 -0.020813  0.004351   \n",
      "\n",
      "ticker           XEL        ZS  \n",
      "date                            \n",
      "2020-01-03  0.004798  0.001056  \n",
      "2020-01-06 -0.001437  0.027479  \n",
      "2020-01-07 -0.002079 -0.006179  \n",
      "2020-01-08 -0.000961  0.047412  \n",
      "2020-01-09  0.002241  0.062072  \n",
      "\n",
      "[5 rows x 92 columns]\n"
     ]
    }
   ],
   "source": [
    "import pandas as pd\n",
    "import numpy as np\n",
    "from sqlalchemy import create_engine\n",
    "import os\n",
    "from dotenv import load_dotenv\n",
    "\n",
    " # Load environment variables from .env file\n",
    "load_dotenv()\n",
    "\n",
    "# Retrieve the database URL from the environment variable\n",
    "database_url = os.getenv(\"DATABASE_URL\")\n",
    "\n",
    "# --- PostgreSQL connection ---\n",
    "# Create the engine using the environment variable\n",
    "engine = create_engine(database_url)\n",
    "\n",
    "# --- Load historical price data ---\n",
    "query = \"SELECT date, ticker, close FROM financial_data\"\n",
    "df = pd.read_sql(query, engine)\n",
    "df['date'] = pd.to_datetime(df['date'])\n",
    "\n",
    "# --- Pivot to get price matrix [date x ticker] ---\n",
    "price_df = df.pivot(index='date', columns='ticker', values='close').sort_index()\n",
    "price_df = price_df.dropna(axis=1)  # Drop tickers with missing data\n",
    "\n",
    "# --- Compute log returns ---\n",
    "log_returns = np.log(price_df / price_df.shift(1)).dropna()\n",
    "\n",
    "# ✅ Preview\n",
    "print(\"Log returns shape:\", log_returns.shape)\n",
    "print(log_returns.head())\n"
   ]
  },
  {
   "cell_type": "markdown",
   "metadata": {},
   "source": [
    "calculating expected returns & covariance matirx "
   ]
  },
  {
   "cell_type": "code",
   "execution_count": 3,
   "metadata": {},
   "outputs": [
    {
     "name": "stdout",
     "output_type": "stream",
     "text": [
      "✅ Expected Returns (annualized):\n",
      "ticker\n",
      "AAPL    0.188583\n",
      "ADBE    0.025454\n",
      "ADI     0.109049\n",
      "ADP     0.129259\n",
      "AEP     0.061917\n",
      "dtype: float64\n",
      "\n",
      "✅ Covariance Matrix (annualized):\n",
      "ticker      AAPL      ADBE       ADI       ADP       AEP\n",
      "ticker                                                  \n",
      "AAPL    0.107145  0.078212  0.074367  0.049137  0.026762\n",
      "ADBE    0.078212  0.153232  0.081179  0.052999  0.020500\n",
      "ADI     0.074367  0.081179  0.136338  0.055804  0.022214\n",
      "ADP     0.049137  0.052999  0.055804  0.076025  0.033876\n",
      "AEP     0.026762  0.020500  0.022214  0.033876  0.060987\n"
     ]
    }
   ],
   "source": [
    "# Assuming 252 trading days per year\n",
    "expected_returns = log_returns.mean() * 252\n",
    "\n",
    "# --- Compute annualized covariance matrix ---\n",
    "cov_matrix = log_returns.cov() * 252\n",
    "\n",
    "# --- Preview ---\n",
    "print(\"✅ Expected Returns (annualized):\")\n",
    "print(expected_returns.head())\n",
    "\n",
    "print(\"\\n✅ Covariance Matrix (annualized):\")\n",
    "print(cov_matrix.iloc[:5, :5])  # Show a 5x5 slice\n"
   ]
  },
  {
   "cell_type": "code",
   "execution_count": 4,
   "metadata": {},
   "outputs": [
    {
     "name": "stdout",
     "output_type": "stream",
     "text": [
      "✅ Optimal Weights (Minimum Variance Portfolio):\n",
      "KDP      1.792759e-01\n",
      "GILD     1.400223e-01\n",
      "AEP      1.286571e-01\n",
      "AZN      1.027372e-01\n",
      "COST     1.010826e-01\n",
      "EA       9.360079e-02\n",
      "PCAR     5.675488e-02\n",
      "REGN     3.058176e-02\n",
      "MAR      3.016989e-02\n",
      "NTES     2.292809e-02\n",
      "TTWO     2.291702e-02\n",
      "MDLZ     2.273615e-02\n",
      "KHC      2.021744e-02\n",
      "TCOM     1.759889e-02\n",
      "ORLY     1.574066e-02\n",
      "DLTR     9.148201e-03\n",
      "PANW     3.991574e-03\n",
      "AMGN     1.839588e-03\n",
      "ALGN     7.616022e-17\n",
      "ADBE     4.373931e-17\n",
      "AVGO     4.004152e-17\n",
      "ADP      2.379537e-17\n",
      "AMD      2.289658e-17\n",
      "AXON     2.260266e-17\n",
      "CRWD     1.915568e-17\n",
      "DDOG     1.605241e-17\n",
      "ADI      1.401951e-17\n",
      "ROST     9.522408e-18\n",
      "BIIB     9.174376e-18\n",
      "MSTR     8.630234e-18\n",
      "CSX      8.420393e-18\n",
      "DXCM     7.926573e-18\n",
      "SMCI     7.896942e-18\n",
      "EXC      7.894988e-18\n",
      "SNPS     7.506409e-18\n",
      "MELI     6.806854e-18\n",
      "GOOGL    5.791159e-18\n",
      "INTU     5.033897e-18\n",
      "CDW      4.838094e-18\n",
      "HON      4.444113e-18\n",
      "CPRT     4.436563e-18\n",
      "XEL      3.646240e-18\n",
      "INTC     3.309203e-18\n",
      "MSFT     2.794430e-18\n",
      "OKTA     2.675446e-18\n",
      "BKNG     1.810810e-18\n",
      "CTAS     1.726899e-18\n",
      "BIDU     1.646361e-18\n",
      "VRTX     8.422152e-19\n",
      "META     8.524900e-21\n",
      "dtype: float64\n"
     ]
    }
   ],
   "source": [
    "# --- Prepare data ---\n",
    "tickers = expected_returns.index.tolist()\n",
    "mu = expected_returns.values\n",
    "cov = cov_matrix.values\n",
    "n_assets = len(tickers)\n",
    "\n",
    "# --- Objective function: portfolio variance ---\n",
    "def portfolio_variance(weights, cov_matrix):\n",
    "    return weights.T @ cov_matrix @ weights\n",
    "\n",
    "# --- Constraints: fully invested ---\n",
    "constraints = [{'type': 'eq', 'fun': lambda w: np.sum(w) - 1}]\n",
    "\n",
    "# --- Bounds: long-only portfolio (0 <= w <= 1) ---\n",
    "bounds = [(0.0, 1.0) for _ in range(n_assets)]\n",
    "\n",
    "# --- Initial guess: equal weighting ---\n",
    "w0 = np.ones(n_assets) / n_assets\n",
    "\n",
    "# --- Solve optimization ---\n",
    "result = minimize(portfolio_variance, w0, args=(cov,), method='SLSQP',\n",
    "                  bounds=bounds, constraints=constraints)\n",
    "\n",
    "# --- Extract optimal weights ---\n",
    "optimal_weights = pd.Series(result.x, index=tickers)\n",
    "\n",
    "# --- Display result ---\n",
    "print(\"✅ Optimal Weights (Minimum Variance Portfolio):\")\n",
    "print(optimal_weights[optimal_weights > 0].sort_values(ascending=False))\n"
   ]
  },
  {
   "cell_type": "markdown",
   "metadata": {},
   "source": [
    "\n",
    "- These are the optimal asset weights (allocations) that minimize the total portfolio variance, assuming:\n",
    "    - Full investment (sum = 1)\n",
    "    - No short selling (weights ≥ 0)\n",
    "- Assets with very small values (e.g., 1e-17) are essentially excluded from the portfolio — their weight is effectively zero."
   ]
  },
  {
   "cell_type": "markdown",
   "metadata": {},
   "source": [
    "Calculating for Constrained Portfolio Optimization (Target Return + Max Weight)"
   ]
  },
  {
   "cell_type": "code",
   "execution_count": 5,
   "metadata": {},
   "outputs": [
    {
     "name": "stdout",
     "output_type": "stream",
     "text": [
      "✅ Constrained Optimal Weights:\n",
      "GILD     1.000000e-01\n",
      "COST     1.000000e-01\n",
      "AEP      1.000000e-01\n",
      "EA       1.000000e-01\n",
      "KDP      1.000000e-01\n",
      "AZN      1.000000e-01\n",
      "PCAR     6.624339e-02\n",
      "MDLZ     5.976794e-02\n",
      "REGN     4.738087e-02\n",
      "KHC      4.419196e-02\n",
      "MAR      3.335460e-02\n",
      "ORLY     3.006222e-02\n",
      "NTES     2.788272e-02\n",
      "TTWO     2.481639e-02\n",
      "AMGN     2.246592e-02\n",
      "TCOM     1.831156e-02\n",
      "DLTR     1.390943e-02\n",
      "XEL      6.550361e-03\n",
      "PANW     3.646570e-03\n",
      "WBA      1.416080e-03\n",
      "CTSH     2.764456e-17\n",
      "CMCSA    2.720223e-17\n",
      "ZS       2.208065e-17\n",
      "FTNT     2.096983e-17\n",
      "QCOM     1.846692e-17\n",
      "AAPL     1.803440e-17\n",
      "NXPI     1.707646e-17\n",
      "AVGO     1.610220e-17\n",
      "DOCU     1.514091e-17\n",
      "CSCO     1.468939e-17\n",
      "EXC      1.466164e-17\n",
      "DDOG     1.460557e-17\n",
      "CDNS     1.459777e-17\n",
      "CTAS     1.227257e-17\n",
      "TEAM     1.179056e-17\n",
      "DXCM     1.118828e-17\n",
      "TSLA     1.038379e-17\n",
      "OKTA     9.335249e-18\n",
      "GOOGL    8.941136e-18\n",
      "ROST     8.246247e-18\n",
      "AMD      7.842767e-18\n",
      "MNST     7.378066e-18\n",
      "SNPS     6.149388e-18\n",
      "KLAC     5.876706e-18\n",
      "CDW      5.257645e-18\n",
      "PAYX     4.986278e-18\n",
      "META     4.141036e-18\n",
      "INTU     3.940185e-18\n",
      "MCHP     3.032201e-18\n",
      "BKR      2.636734e-18\n",
      "NVDA     1.979620e-18\n",
      "BIIB     1.907942e-18\n",
      "PDD      1.715724e-18\n",
      "MSFT     1.683915e-18\n",
      "WBD      1.066654e-18\n",
      "CPRT     4.752954e-19\n",
      "FAST     3.791779e-19\n",
      "ODFL     7.128304e-20\n",
      "dtype: float64\n"
     ]
    }
   ],
   "source": [
    "# --- Target return: e.g., at least 5% annual return ---\n",
    "target_return = 0.05\n",
    "\n",
    "# --- Objective: minimize portfolio variance ---\n",
    "def portfolio_variance(weights, cov_matrix):\n",
    "    return weights.T @ cov_matrix @ weights\n",
    "\n",
    "# --- Constraints: fully invested + target return ---\n",
    "constraints = [\n",
    "    {'type': 'eq', 'fun': lambda w: np.sum(w) - 1},  # weights sum to 1\n",
    "    {'type': 'ineq', 'fun': lambda w: w @ mu - target_return}  # return constraint\n",
    "]\n",
    "\n",
    "# --- Bounds: long-only + max 10% in any asset ---\n",
    "max_weight = 0.10\n",
    "bounds = [(0.0, max_weight) for _ in range(n_assets)]\n",
    "\n",
    "# --- Initial guess ---\n",
    "w0 = np.ones(n_assets) / n_assets\n",
    "\n",
    "# --- Solve ---\n",
    "result_constrained = minimize(portfolio_variance, w0, args=(cov,), method='SLSQP',\n",
    "                              bounds=bounds, constraints=constraints)\n",
    "\n",
    "# --- Extract optimal weights ---\n",
    "optimal_weights_constrained = pd.Series(result_constrained.x, index=tickers)\n",
    "\n",
    "# --- Display non-zero weights ---\n",
    "print(\"✅ Constrained Optimal Weights:\")\n",
    "print(optimal_weights_constrained[optimal_weights_constrained > 0].sort_values(ascending=False))"
   ]
  },
  {
   "cell_type": "markdown",
   "metadata": {},
   "source": [
    "\n",
    "- Enforced param:\n",
    "    - Target return ≥ 5%\n",
    "    - Max weight = 10% per asset\n",
    "    - Long-only constraint (no negative weights)\n",
    "- As a result:\n",
    "    - Assets like EA, AZN, KDP, AEP, and GILD hit the maximum allowed allocation of 10% — they are likely low-risk, high-return contributors.\n",
    "    - Several other assets have near-zero weights (e.g., MRVL, MSTR) — the optimizer deems them suboptimal under your constraints.\n"
   ]
  },
  {
   "cell_type": "markdown",
   "metadata": {},
   "source": [
    "Saving connstrained weights to the sql \n"
   ]
  },
  {
   "cell_type": "code",
   "execution_count": 6,
   "metadata": {},
   "outputs": [
    {
     "name": "stdout",
     "output_type": "stream",
     "text": [
      "✅ Optimal weights saved to PostgreSQL table: optimal_portfolio_weights\n"
     ]
    }
   ],
   "source": [
    "from sqlalchemy import create_engine\n",
    "\n",
    "# --- Prepare final weights table ---\n",
    "weights_df = optimal_weights_constrained.reset_index()\n",
    "weights_df.columns = ['ticker', 'weight']\n",
    "weights_df = weights_df[weights_df['weight'] > 0].sort_values(by='weight', ascending=False)\n",
    "\n",
    "# --- Save to PostgreSQL ---\n",
    "# Load environment variables from .env file\n",
    "load_dotenv()\n",
    "\n",
    "# Retrieve the database URL from the environment variable\n",
    "database_url = os.getenv(\"DATABASE_URL\")\n",
    "\n",
    "# --- PostgreSQL connection ---\n",
    "# Create the engine using the environment variable\n",
    "engine = create_engine(database_url)\n",
    "weights_df.to_sql(\"optimal_portfolio_weights\", engine, if_exists='replace', index=False)\n",
    "\n",
    "print(\"✅ Optimal weights saved to PostgreSQL table: optimal_portfolio_weights\")"
   ]
  }
 ],
 "metadata": {
  "kernelspec": {
   "display_name": "conda_python_env_3.11.10",
   "language": "python",
   "name": "python3"
  },
  "language_info": {
   "codemirror_mode": {
    "name": "ipython",
    "version": 3
   },
   "file_extension": ".py",
   "mimetype": "text/x-python",
   "name": "python",
   "nbconvert_exporter": "python",
   "pygments_lexer": "ipython3",
   "version": "3.11.10"
  }
 },
 "nbformat": 4,
 "nbformat_minor": 2
}
