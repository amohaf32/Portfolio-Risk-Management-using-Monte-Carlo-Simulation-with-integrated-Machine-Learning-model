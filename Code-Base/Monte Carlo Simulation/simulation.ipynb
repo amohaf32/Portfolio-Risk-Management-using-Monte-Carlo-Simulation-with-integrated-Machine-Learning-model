{
 "cells": [
  {
   "cell_type": "code",
   "execution_count": 1,
   "metadata": {},
   "outputs": [],
   "source": [
    "import numpy as np\n",
    "import pandas as pd\n",
    "import matplotlib.pyplot as plt\n",
    "import seaborn as sns\n",
    "from scipy.stats import norm\n",
    "from sqlalchemy import create_engine\n",
    "from scipy.stats import skew, kurtosis"
   ]
  },
  {
   "cell_type": "code",
   "execution_count": 2,
   "metadata": {},
   "outputs": [],
   "source": [
    "# --- PostgreSQL Connection ---\n",
    "engine = create_engine('postgresql://akilfiros:@127.0.0.1:5432/postgres')\n"
   ]
  },
  {
   "cell_type": "code",
   "execution_count": 3,
   "metadata": {},
   "outputs": [],
   "source": [
    "# --- Load Processed Data ---\n",
    "query = \"SELECT date, ticker, close FROM financial_data\"\n",
    "data = pd.read_sql(query, engine)\n",
    "data['date'] = pd.to_datetime(data['date'])\n"
   ]
  },
  {
   "cell_type": "code",
   "execution_count": 4,
   "metadata": {},
   "outputs": [],
   "source": [
    "# --- Prepare Data for Monte Carlo Simulation ---\n",
    "# Pivot data so that each column is a ticker and rows are dates\n",
    "returns = data.pivot(index='date', columns='ticker', values='close').pct_change().dropna()"
   ]
  },
  {
   "cell_type": "code",
   "execution_count": 5,
   "metadata": {},
   "outputs": [],
   "source": [
    "# Define simulation parameters\n",
    "num_simulations = 1000  # Number of Monte Carlo Simulations\n",
    "num_days = 252  # Number of trading/working days in a year\n",
    "initial_investment = 1000  # Starting capital"
   ]
  },
  {
   "cell_type": "code",
   "execution_count": 9,
   "metadata": {},
   "outputs": [
    {
     "name": "stdout",
     "output_type": "stream",
     "text": [
      "mean_returns =  ticker\n",
      "AAPL    0.001221\n",
      "ADBE   -0.000410\n",
      "ADI     0.000761\n",
      "ADP     0.000657\n",
      "AEP     0.000643\n",
      "          ...   \n",
      "VRTX    0.000551\n",
      "WBA    -0.001895\n",
      "WBD     0.000201\n",
      "XEL     0.000644\n",
      "ZS      0.000784\n",
      "Length: 100, dtype: float64\n",
      "cov_matrix =  ticker      AAPL      ADBE       ADI       ADP       AEP      ALGN      AMAT  \\\n",
      "ticker                                                                         \n",
      "AAPL    0.000181  0.000073  0.000090  0.000017  0.000009  0.000098  0.000123   \n",
      "ADBE    0.000073  0.000489  0.000098  0.000061 -0.000010  0.000041  0.000156   \n",
      "ADI     0.000090  0.000098  0.000358  0.000060 -0.000003  0.000193  0.000310   \n",
      "ADP     0.000017  0.000061  0.000060  0.000124  0.000026  0.000050  0.000039   \n",
      "AEP     0.000009 -0.000010 -0.000003  0.000026  0.000153  0.000024 -0.000058   \n",
      "...          ...       ...       ...       ...       ...       ...       ...   \n",
      "VRTX    0.000037  0.000049  0.000052  0.000025  0.000043  0.000072  0.000066   \n",
      "WBA     0.000067 -0.000017  0.000085  0.000041  0.000086  0.000183 -0.000008   \n",
      "WBD     0.000071 -0.000057  0.000148  0.000068  0.000116  0.000292  0.000048   \n",
      "XEL     0.000007 -0.000006 -0.000009  0.000027  0.000095  0.000038 -0.000073   \n",
      "ZS      0.000112  0.000213  0.000148  0.000080 -0.000010  0.000218  0.000238   \n",
      "\n",
      "ticker       AMD      AMGN      AMZN  ...      TEAM      TSLA          TTWO  \\\n",
      "ticker                                ...                                     \n",
      "AAPL    0.000122  0.000047  0.000094  ...  0.000083  0.000165  4.644449e-05   \n",
      "ADBE    0.000170  0.000048  0.000178  ...  0.000202  0.000125  6.474981e-05   \n",
      "ADI     0.000296  0.000062  0.000120  ...  0.000150  0.000245  8.937548e-05   \n",
      "ADP     0.000029  0.000038  0.000037  ...  0.000065  0.000064  4.420438e-05   \n",
      "AEP    -0.000037  0.000042 -0.000017  ...  0.000022 -0.000011 -8.541295e-07   \n",
      "...          ...       ...       ...  ...       ...       ...           ...   \n",
      "VRTX    0.000059  0.000077  0.000044  ...  0.000090  0.000068  4.844943e-05   \n",
      "WBA    -0.000010  0.000108  0.000005  ...  0.000054  0.000131  1.136126e-05   \n",
      "WBD     0.000098  0.000102  0.000085  ...  0.000243  0.000201  9.029052e-05   \n",
      "XEL    -0.000078  0.000048 -0.000025  ...  0.000052  0.000018  2.375951e-06   \n",
      "ZS      0.000241  0.000042  0.000214  ...  0.000297  0.000244  1.040318e-04   \n",
      "\n",
      "ticker      VRSK      VRSN      VRTX       WBA       WBD       XEL        ZS  \n",
      "ticker                                                                        \n",
      "AAPL    0.000023  0.000037  0.000037  0.000067  0.000071  0.000007  0.000112  \n",
      "ADBE    0.000054  0.000075  0.000049 -0.000017 -0.000057 -0.000006  0.000213  \n",
      "ADI     0.000018  0.000058  0.000052  0.000085  0.000148 -0.000009  0.000148  \n",
      "ADP     0.000050  0.000051  0.000025  0.000041  0.000068  0.000027  0.000080  \n",
      "AEP     0.000027  0.000034  0.000043  0.000086  0.000116  0.000095 -0.000010  \n",
      "...          ...       ...       ...       ...       ...       ...       ...  \n",
      "VRTX    0.000047  0.000043  0.000280  0.000101  0.000095  0.000025  0.000076  \n",
      "WBA     0.000034  0.000067  0.000101  0.001027  0.000320  0.000076  0.000047  \n",
      "WBD     0.000048  0.000087  0.000095  0.000320  0.001076  0.000122  0.000138  \n",
      "XEL     0.000025  0.000038  0.000025  0.000076  0.000122  0.000184 -0.000005  \n",
      "ZS      0.000075  0.000070  0.000076  0.000047  0.000138 -0.000005  0.000687  \n",
      "\n",
      "[100 rows x 100 columns]\n"
     ]
    }
   ],
   "source": [
    "# Calculate mean and covariance of returns\n",
    "mean_returns = returns.mean()\n",
    "cov_matrix = returns.cov()\n",
    "\n",
    "print (\"mean_returns = \", mean_returns)\n",
    "print (\"cov_matrix = \",cov_matrix)"
   ]
  },
  {
   "cell_type": "code",
   "execution_count": 10,
   "metadata": {},
   "outputs": [],
   "source": [
    "# --- Monte Carlo Simulation Function ---\n",
    "def monte_carlo_simulation(portfolio_weights, num_simulations, num_days):\n",
    "    portfolio_returns = []\n",
    "    for _ in range(num_simulations):\n",
    "        daily_returns = np.random.multivariate_normal(mean_returns, cov_matrix, num_days)\n",
    "        portfolio_daily_returns = daily_returns @ portfolio_weights\n",
    "        portfolio_cumulative_returns = np.cumprod(1 + portfolio_daily_returns) * initial_investment\n",
    "        portfolio_returns.append(portfolio_cumulative_returns[-1])  # Store final portfolio value\n",
    "    return np.array(portfolio_returns)"
   ]
  },
  {
   "cell_type": "code",
   "execution_count": 11,
   "metadata": {},
   "outputs": [],
   "source": [
    "# Example: Equal-weighted portfolio\n",
    "num_assets = len(mean_returns)\n",
    "portfolio_weights = np.ones(num_assets) / num_assets  # Equal weight for all assets\n"
   ]
  },
  {
   "cell_type": "code",
   "execution_count": 12,
   "metadata": {},
   "outputs": [],
   "source": [
    "# Run Simulation\n",
    "simulated_portfolio_values = monte_carlo_simulation(portfolio_weights, num_simulations, num_days)"
   ]
  },
  {
   "cell_type": "code",
   "execution_count": 14,
   "metadata": {},
   "outputs": [
    {
     "name": "stdout",
     "output_type": "stream",
     "text": [
      "95% Value at Risk (VaR): $50.69\n",
      "95% Conditional Value at Risk (CVaR): $120.14\n"
     ]
    }
   ],
   "source": [
    "# --- Calculate Risk Metrics (VaR & CVaR) ---\n",
    "var_95 = np.percentile(simulated_portfolio_values, 5)  # 5% worst-case loss\n",
    "cvar_95 = simulated_portfolio_values[simulated_portfolio_values <= var_95].mean()\n",
    "\n",
    "print(f\"95% Value at Risk (VaR): ${initial_investment - var_95:.2f}\")\n",
    "print(f\"95% Conditional Value at Risk (CVaR): ${initial_investment - cvar_95:.2f}\")"
   ]
  },
  {
   "cell_type": "code",
   "execution_count": 15,
   "metadata": {},
   "outputs": [
    {
     "data": {
      "image/png": "[encoded data removed]",
      "text/plain": [
       "<Figure size 1000x500 with 1 Axes>"
      ]
     },
     "metadata": {},
     "output_type": "display_data"
    }
   ],
   "source": [
    "# --- Visualization ---\n",
    "plt.figure(figsize=(10, 5))\n",
    "sns.histplot(simulated_portfolio_values, bins=50, kde=True, color='blue')\n",
    "plt.axvline(var_95, color='red', linestyle='dashed', label=f'VaR 95%: ${var_95:.2f}')\n",
    "plt.axvline(cvar_95, color='orange', linestyle='dashed', label=f'CVaR 95%: ${cvar_95:.2f}')\n",
    "plt.title(\"Monte Carlo Simulation Portfolio Distribution\")\n",
    "plt.xlabel(\"Portfolio Value\")\n",
    "plt.ylabel(\"Frequency\")\n",
    "plt.legend()\n",
    "plt.show()"
   ]
  },
  {
   "cell_type": "markdown",
   "metadata": {},
   "source": [
    "Evaluation metrics"
   ]
  },
  {
   "cell_type": "code",
   "execution_count": 16,
   "metadata": {},
   "outputs": [
    {
     "name": "stdout",
     "output_type": "stream",
     "text": [
      "Mean Final Portfolio Value: $1245.01\n"
     ]
    }
   ],
   "source": [
    "#Mean Final Portfolio Value\n",
    "mean_value = simulated_portfolio_values.mean()\n",
    "print(f\"Mean Final Portfolio Value: ${mean_value:.2f}\")\n"
   ]
  },
  {
   "cell_type": "code",
   "execution_count": 17,
   "metadata": {},
   "outputs": [
    {
     "name": "stdout",
     "output_type": "stream",
     "text": [
      "Standard Deviation (Volatility): $205.81\n"
     ]
    }
   ],
   "source": [
    "#Standard Deviation (Volatility) of Final Portfolio Values\n",
    "std_dev = simulated_portfolio_values.std()\n",
    "print(f\"Standard Deviation (Volatility): ${std_dev:.2f}\")"
   ]
  },
  {
   "cell_type": "code",
   "execution_count": 19,
   "metadata": {},
   "outputs": [
    {
     "name": "stdout",
     "output_type": "stream",
     "text": [
      "Skewness: 0.6000\n",
      "Kurtosis: 0.5362\n"
     ]
    }
   ],
   "source": [
    "#Skewness and Kurtosis\n",
    "skewness = skew(simulated_portfolio_values)\n",
    "kurt = kurtosis(simulated_portfolio_values)\n",
    "\n",
    "print(f\"Skewness: {skewness:.4f}\")\n",
    "print(f\"Kurtosis: {kurt:.4f}\")"
   ]
  },
  {
   "cell_type": "code",
   "execution_count": 20,
   "metadata": {},
   "outputs": [
    {
     "name": "stdout",
     "output_type": "stream",
     "text": [
      "Sharpe Ratio: 0.0011\n"
     ]
    }
   ],
   "source": [
    "#Sharpe Ratio\n",
    "risk_free_rate = 0.02\n",
    "expected_return = (mean_value - initial_investment) / initial_investment  # total return\n",
    "sharpe_ratio = (expected_return - risk_free_rate) / std_dev\n",
    "\n",
    "print(f\"Sharpe Ratio: {sharpe_ratio:.4f}\")"
   ]
  },
  {
   "cell_type": "code",
   "execution_count": 23,
   "metadata": {},
   "outputs": [
    {
     "name": "stdout",
     "output_type": "stream",
     "text": [
      "Average Maximum Drawdown: -12.37%\n"
     ]
    }
   ],
   "source": [
    "#Maximum Drawdown (MDD)\n",
    "def monte_carlo_simulation_full_paths(portfolio_weights, num_simulations, num_days):\n",
    "    all_paths = []\n",
    "    for _ in range(num_simulations):\n",
    "        daily_returns = np.random.multivariate_normal(mean_returns, cov_matrix, num_days)\n",
    "        portfolio_daily_returns = daily_returns @ portfolio_weights\n",
    "        portfolio_cumulative_returns = np.cumprod(1 + portfolio_daily_returns) * initial_investment\n",
    "        all_paths.append(portfolio_cumulative_returns)\n",
    "    return np.array(all_paths)\n",
    "\n",
    "# Run this instead of previous\n",
    "all_simulated_paths = monte_carlo_simulation_full_paths(portfolio_weights, num_simulations, num_days)\n",
    "\n",
    "def calculate_max_drawdown(path):\n",
    "    cumulative_max = np.maximum.accumulate(path)\n",
    "    drawdown = (path - cumulative_max) / cumulative_max\n",
    "    return drawdown.min()\n",
    "\n",
    "max_drawdowns = np.array([calculate_max_drawdown(path) for path in all_simulated_paths])\n",
    "average_mdd = max_drawdowns.mean()\n",
    "\n",
    "print(f\"Average Maximum Drawdown: {average_mdd:.2%}\")"
   ]
  },
  {
   "cell_type": "code",
   "execution_count": 24,
   "metadata": {},
   "outputs": [
    {
     "name": "stdout",
     "output_type": "stream",
     "text": [
      "\n",
      "--- Evaluation Metrics ---\n",
      "Mean Final Portfolio Value: $1245.01\n",
      "Standard Deviation (Volatility): $205.81\n",
      "Skewness: 0.6000\n",
      "Kurtosis: 0.5362\n",
      "Sharpe Ratio: 0.0011\n",
      "Average Maximum Drawdown: -12.37%\n"
     ]
    }
   ],
   "source": [
    "# Summary Code Block\n",
    "print(\"\\n--- Evaluation Metrics ---\")\n",
    "print(f\"Mean Final Portfolio Value: ${mean_value:.2f}\")\n",
    "print(f\"Standard Deviation (Volatility): ${std_dev:.2f}\")\n",
    "print(f\"Skewness: {skewness:.4f}\")\n",
    "print(f\"Kurtosis: {kurt:.4f}\")\n",
    "print(f\"Sharpe Ratio: {sharpe_ratio:.4f}\")\n",
    "print(f\"Average Maximum Drawdown: {average_mdd:.2%}\")"
   ]
  },
  {
   "cell_type": "markdown",
   "metadata": {},
   "source": [
    "### 📈 Evaluation Metrics for Monte Carlo Simulation\n",
    "\n",
    "The following metrics are used to evaluate the performance and risk characteristics of the simulated portfolio:\n",
    "\n",
    "---\n",
    "\n",
    "#### **1. Mean Final Portfolio Value**\n",
    "- **Definition:** The average ending value of the portfolio across all Monte Carlo simulation runs.\n",
    "- **Interpretation:** It shows the expected outcome (average return) if the simulation were repeated many times.\n",
    "- **Example:** If the mean final portfolio value is **$1245.01**, it means the portfolio typically grows from the initial $1000 investment to $1245.01 over the simulation horizon.\n",
    "\n",
    "---\n",
    "\n",
    "#### **2. Standard Deviation (Volatility)**\n",
    "- **Definition:** A statistical measure of the dispersion or spread of the simulated final portfolio values around the mean.\n",
    "- **Interpretation:** A higher standard deviation indicates greater uncertainty and risk in returns.\n",
    "- **Example:** A standard deviation of **$205.81** means portfolio values tend to fluctuate around ±$205 from the average result.\n",
    "\n",
    "---\n",
    "\n",
    "#### **3. Skewness**\n",
    "- **Definition:** A measure of the asymmetry of the distribution of final portfolio values.\n",
    "- **Interpretation:**\n",
    "  - Positive skew → more frequent smaller losses and rare large gains.\n",
    "  - Negative skew → more frequent small gains and rare large losses.\n",
    "- **Example:** A skewness of **0.6000** indicates a distribution with a longer right tail, suggesting potential for large gains.\n",
    "\n",
    "---\n",
    "\n",
    "#### **4. Kurtosis**\n",
    "- **Definition:** A measure of the \"tailedness\" of the distribution compared to a normal distribution.\n",
    "- **Interpretation:**\n",
    "  - Kurtosis > 0: Fat tails → more extreme outcomes than normal.\n",
    "  - Kurtosis < 0: Thin tails → fewer extreme values.\n",
    "- **Example:** A kurtosis of **0.5362** means the portfolio returns have slightly fatter tails than a normal distribution, indicating some risk of outliers.\n",
    "\n",
    "---\n",
    "\n",
    "#### **5. Sharpe Ratio**\n",
    "- **Definition:** A risk-adjusted return metric calculated as:\n",
    "  \\[\n",
    "  \\text{Sharpe Ratio} = \\frac{\\text{Portfolio Return} - \\text{Risk-Free Rate}}{\\text{Volatility}}\n",
    "  \\]\n",
    "- **Interpretation:** Indicates how much excess return is received for the extra volatility endured. Higher values are better.\n",
    "- **Example:** A Sharpe ratio of **0.0011** is very low, suggesting that returns barely compensate for the risk taken.\n",
    "\n",
    "---\n",
    "\n",
    "#### **6. Average Maximum Drawdown**\n",
    "- **Definition:** The average of the maximum percentage losses (from peak to trough) across all simulation paths.\n",
    "- **Interpretation:** Represents the average worst-case loss an investor could have experienced during the investment horizon.\n",
    "- **Important Note:** This value is always **negative**, because it represents a **decline** in value.\n",
    "- **Example:** An average maximum drawdown of **-12.37%** means that, on average, the portfolio experienced a **12.37% drop from its peak value** during the simulation period.\n",
    "\n",
    "---\n",
    "\n",
    "### 🧠 Summary:\n",
    "These metrics collectively give a comprehensive view of the **expected performance**, **risk**, and **downside potential** of the portfolio. While a high mean return is desirable, it's important to balance it with volatility and drawdown to understand the risk involved.\n",
    "\n"
   ]
  }
 ],
 "metadata": {
  "kernelspec": {
   "display_name": "conda_python_env_3.11.10",
   "language": "python",
   "name": "python3"
  },
  "language_info": {
   "codemirror_mode": {
    "name": "ipython",
    "version": 3
   },
   "file_extension": ".py",
   "mimetype": "text/x-python",
   "name": "python",
   "nbconvert_exporter": "python",
   "pygments_lexer": "ipython3",
   "version": "3.11.10"
  }
 },
 "nbformat": 4,
 "nbformat_minor": 2
}
