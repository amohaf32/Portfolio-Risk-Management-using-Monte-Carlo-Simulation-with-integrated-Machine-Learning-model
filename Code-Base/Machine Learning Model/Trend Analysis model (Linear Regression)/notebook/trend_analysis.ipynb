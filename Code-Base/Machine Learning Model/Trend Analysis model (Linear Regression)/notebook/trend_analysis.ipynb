{
 "cells": [
  {
   "cell_type": "markdown",
   "metadata": {},
   "source": [
    "#### Part 3: Trend Analysis (Linear Regression)\n"
   ]
  },
  {
   "cell_type": "code",
   "execution_count": 11,
   "metadata": {},
   "outputs": [],
   "source": [
    "import numpy as np\n",
    "import pandas as pd\n",
    "import matplotlib.pyplot as plt\n",
    "import os\n",
    "import gc\n",
    "\n",
    "from sklearn.preprocessing import MinMaxScaler , StandardScaler\n",
    "from sklearn.cluster import KMeans\n",
    "from sklearn.decomposition import PCA\n",
    "from sklearn.metrics import silhouette_score, calinski_harabasz_score, davies_bouldin_score\n",
    "\n",
    "import seaborn as sns\n",
    "\n",
    "from sqlalchemy import create_engine\n",
    "\n",
    "import statsmodels.api as sm\n",
    "\n",
    "# Set seeds for reproducibility\n",
    "np.random.seed(42)"
   ]
  },
  {
   "cell_type": "code",
   "execution_count": 4,
   "metadata": {},
   "outputs": [],
   "source": [
    "# --- PostgreSQL Connection ---\n",
    "engine = create_engine('postgresql://akilfiros:@127.0.0.1:5432/postgres')"
   ]
  },
  {
   "cell_type": "code",
   "execution_count": 5,
   "metadata": {},
   "outputs": [],
   "source": [
    "# --- Load Processed Data ---\n",
    "query = \"SELECT date, ticker, close FROM financial_data\"\n",
    "data = pd.read_sql(query, engine)\n",
    "data['date'] = pd.to_datetime(data['date'])"
   ]
  },
  {
   "cell_type": "code",
   "execution_count": 6,
   "metadata": {},
   "outputs": [
    {
     "name": "stdout",
     "output_type": "stream",
     "text": [
      "✅ Features loaded:\n",
      "        date ticker  log_return  volatility\n",
      "0 2020-01-16   AAPL    0.012449    0.012707\n",
      "1 2020-01-16   ADBE    0.007090    0.008181\n",
      "2 2020-01-16    ADI    0.013692    0.014322\n",
      "3 2020-01-16    ADP    0.011907    0.007988\n",
      "4 2020-01-16    AEP    0.007323    0.005477\n"
     ]
    }
   ],
   "source": [
    "# --- Pivot prices ---\n",
    "prices = data.pivot(index='date', columns='ticker', values='close').sort_index()\n",
    "prices = prices.dropna(axis=1)  # Drop tickers with missing data\n",
    "\n",
    "# --- Compute log returns ---\n",
    "log_returns = np.log(prices / prices.shift(1)).dropna()\n",
    "\n",
    "# --- Compute rolling volatility (10-day) ---\n",
    "volatility = log_returns.rolling(window=10).std().dropna()\n",
    "log_returns = log_returns.loc[volatility.index]\n",
    "\n",
    "# --- Stack into long format ---\n",
    "returns_long = log_returns.stack().reset_index()\n",
    "returns_long.columns = ['date', 'ticker', 'log_return']\n",
    "\n",
    "vol_long = volatility.stack().reset_index()\n",
    "vol_long.columns = ['date', 'ticker', 'volatility']\n",
    "\n",
    "# --- Merge into a single feature set ---\n",
    "features = pd.merge(returns_long, vol_long, on=['date', 'ticker'])\n",
    "\n",
    "print(\"✅ Features loaded:\")\n",
    "print(features.head())"
   ]
  },
  {
   "cell_type": "markdown",
   "metadata": {},
   "source": [
    "Apply K-Means Regime Clustering"
   ]
  },
  {
   "cell_type": "code",
   "execution_count": 10,
   "metadata": {},
   "outputs": [
    {
     "name": "stdout",
     "output_type": "stream",
     "text": [
      " Regime labels assigned:\n",
      "        date ticker  log_return  volatility  regime\n",
      "0 2020-01-16   AAPL    0.012449    0.012707       1\n",
      "1 2020-01-16   ADBE    0.007090    0.008181       1\n",
      "2 2020-01-16    ADI    0.013692    0.014322       1\n",
      "3 2020-01-16    ADP    0.011907    0.007988       1\n",
      "4 2020-01-16    AEP    0.007323    0.005477       1\n"
     ]
    }
   ],
   "source": [
    "# --- Scale features ---\n",
    "X = features[['log_return', 'volatility']].values\n",
    "scaler = StandardScaler()\n",
    "X_scaled = scaler.fit_transform(X)\n",
    "\n",
    "# --- Apply KMeans ---\n",
    "k = 3\n",
    "kmeans = KMeans(n_clusters=k, random_state=42, n_init=10)\n",
    "features['regime'] = kmeans.fit_predict(X_scaled)\n",
    "\n",
    "print(\" Regime labels assigned:\")\n",
    "print(features.head())"
   ]
  },
  {
   "cell_type": "markdown",
   "metadata": {},
   "source": [
    "Preparing for Regime-Level Trend Data"
   ]
  },
  {
   "cell_type": "code",
   "execution_count": 9,
   "metadata": {},
   "outputs": [
    {
     "name": "stdout",
     "output_type": "stream",
     "text": [
      " Regime-level trend data sample:\n",
      "            return_regime_0  return_regime_1  return_regime_2  \\\n",
      "date                                                            \n",
      "2020-01-16        -0.009709         0.008103         0.035751   \n",
      "2020-01-17        -0.026933         0.002672         0.002095   \n",
      "2020-01-21        -0.038366        -0.002844         0.036633   \n",
      "2020-01-22        -0.028795         0.003357         0.032368   \n",
      "2020-01-23        -0.025636         0.002143         0.037258   \n",
      "\n",
      "            volatility_regime_0  volatility_regime_1  volatility_regime_2  \n",
      "date                                                                       \n",
      "2020-01-16             0.038181             0.011674             0.031812  \n",
      "2020-01-17             0.030093             0.012112             0.046636  \n",
      "2020-01-21             0.029628             0.011367             0.036044  \n",
      "2020-01-22             0.029689             0.011575             0.034807  \n",
      "2020-01-23             0.032927             0.011816             0.035212  \n"
     ]
    }
   ],
   "source": [
    "# Use 'features' DataFrame with log_return, volatility, regime, and date\n",
    "\n",
    "# --- Group by date and regime to calculate daily average behavior ---\n",
    "regime_daily_avg = features.groupby(['date', 'regime'])[['log_return', 'volatility']].mean().reset_index()\n",
    "\n",
    "# --- Pivot to create time series for each regime ---\n",
    "pivot_returns = regime_daily_avg.pivot(index='date', columns='regime', values='log_return')\n",
    "pivot_volatility = regime_daily_avg.pivot(index='date', columns='regime', values='volatility')\n",
    "\n",
    "# --- Rename columns for clarity ---\n",
    "pivot_returns.columns = [f'return_regime_{i}' for i in pivot_returns.columns]\n",
    "pivot_volatility.columns = [f'volatility_regime_{i}' for i in pivot_volatility.columns]\n",
    "\n",
    "# --- Merge returns and volatility into one DataFrame ---\n",
    "regime_trend_df = pd.concat([pivot_returns, pivot_volatility], axis=1).dropna()\n",
    "\n",
    "# --- Preview ---\n",
    "print(\" Regime-level trend data sample:\")\n",
    "print(regime_trend_df.head())"
   ]
  },
  {
   "cell_type": "markdown",
   "metadata": {},
   "source": [
    "Linear Trend Modeling using statsmodels"
   ]
  },
  {
   "cell_type": "code",
   "execution_count": 13,
   "metadata": {},
   "outputs": [
    {
     "name": "stdout",
     "output_type": "stream",
     "text": [
      "\n",
      " OLS Trend for return_regime_0\n",
      "                            OLS Regression Results                            \n",
      "==============================================================================\n",
      "Dep. Variable:        return_regime_0   R-squared:                       0.004\n",
      "Model:                            OLS   Adj. R-squared:                  0.003\n",
      "Method:                 Least Squares   F-statistic:                     4.794\n",
      "Date:                Wed, 09 Apr 2025   Prob (F-statistic):             0.0288\n",
      "Time:                        21:26:54   Log-Likelihood:                 3089.7\n",
      "No. Observations:                1118   AIC:                            -6175.\n",
      "Df Residuals:                    1116   BIC:                            -6165.\n",
      "Df Model:                           1                                         \n",
      "Covariance Type:            nonrobust                                         \n",
      "==============================================================================\n",
      "                 coef    std err          t      P>|t|      [0.025      0.975]\n",
      "------------------------------------------------------------------------------\n",
      "const         -0.0301      0.001    -32.812      0.000      -0.032      -0.028\n",
      "time       -1.905e-06    8.7e-07     -2.190      0.029   -3.61e-06   -1.98e-07\n",
      "==============================================================================\n",
      "Omnibus:                      290.107   Durbin-Watson:                   1.913\n",
      "Prob(Omnibus):                  0.000   Jarque-Bera (JB):              916.067\n",
      "Skew:                          -1.269   Prob(JB):                    1.20e-199\n",
      "Kurtosis:                       6.636   Cond. No.                     2.12e+03\n",
      "==============================================================================\n",
      "\n",
      "Notes:\n",
      "[1] Standard Errors assume that the covariance matrix of the errors is correctly specified.\n",
      "[2] The condition number is large, 2.12e+03. This might indicate that there are\n",
      "strong multicollinearity or other numerical problems.\n",
      "\n",
      " OLS Trend for return_regime_1\n",
      "                            OLS Regression Results                            \n",
      "==============================================================================\n",
      "Dep. Variable:        return_regime_1   R-squared:                       0.000\n",
      "Model:                            OLS   Adj. R-squared:                 -0.001\n",
      "Method:                 Least Squares   F-statistic:                   0.03366\n",
      "Date:                Wed, 09 Apr 2025   Prob (F-statistic):              0.854\n",
      "Time:                        21:26:54   Log-Likelihood:                 3898.8\n",
      "No. Observations:                1118   AIC:                            -7794.\n",
      "Df Residuals:                    1116   BIC:                            -7784.\n",
      "Df Model:                           1                                         \n",
      "Covariance Type:            nonrobust                                         \n",
      "==============================================================================\n",
      "                 coef    std err          t      P>|t|      [0.025      0.975]\n",
      "------------------------------------------------------------------------------\n",
      "const          0.0013      0.000      2.932      0.003       0.000       0.002\n",
      "time       -7.743e-08   4.22e-07     -0.183      0.854   -9.05e-07    7.51e-07\n",
      "==============================================================================\n",
      "Omnibus:                       11.412   Durbin-Watson:                   2.033\n",
      "Prob(Omnibus):                  0.003   Jarque-Bera (JB):               12.341\n",
      "Skew:                          -0.192   Prob(JB):                      0.00209\n",
      "Kurtosis:                       3.342   Cond. No.                     2.12e+03\n",
      "==============================================================================\n",
      "\n",
      "Notes:\n",
      "[1] Standard Errors assume that the covariance matrix of the errors is correctly specified.\n",
      "[2] The condition number is large, 2.12e+03. This might indicate that there are\n",
      "strong multicollinearity or other numerical problems.\n",
      "\n",
      " OLS Trend for return_regime_2\n",
      "                            OLS Regression Results                            \n",
      "==============================================================================\n",
      "Dep. Variable:        return_regime_2   R-squared:                       0.000\n",
      "Model:                            OLS   Adj. R-squared:                 -0.001\n",
      "Method:                 Least Squares   F-statistic:                  0.004302\n",
      "Date:                Wed, 09 Apr 2025   Prob (F-statistic):              0.948\n",
      "Time:                        21:26:54   Log-Likelihood:                 2966.9\n",
      "No. Observations:                1118   AIC:                            -5930.\n",
      "Df Residuals:                    1116   BIC:                            -5920.\n",
      "Df Model:                           1                                         \n",
      "Covariance Type:            nonrobust                                         \n",
      "==============================================================================\n",
      "                 coef    std err          t      P>|t|      [0.025      0.975]\n",
      "------------------------------------------------------------------------------\n",
      "const          0.0342      0.001     33.424      0.000       0.032       0.036\n",
      "time         6.37e-08   9.71e-07      0.066      0.948   -1.84e-06    1.97e-06\n",
      "==============================================================================\n",
      "Omnibus:                      337.370   Durbin-Watson:                   1.915\n",
      "Prob(Omnibus):                  0.000   Jarque-Bera (JB):             1593.340\n",
      "Skew:                           1.332   Prob(JB):                         0.00\n",
      "Kurtosis:                       8.206   Cond. No.                     2.12e+03\n",
      "==============================================================================\n",
      "\n",
      "Notes:\n",
      "[1] Standard Errors assume that the covariance matrix of the errors is correctly specified.\n",
      "[2] The condition number is large, 2.12e+03. This might indicate that there are\n",
      "strong multicollinearity or other numerical problems.\n"
     ]
    }
   ],
   "source": [
    "# --- Convert date index to numeric time index ---\n",
    "regime_trend_df = regime_trend_df.copy()\n",
    "regime_trend_df['time'] = (regime_trend_df.index - regime_trend_df.index[0]).days\n",
    "\n",
    "# --- Function to fit OLS and print summary ---\n",
    "def fit_trend(series, time, label):\n",
    "    X = sm.add_constant(time)  # Add intercept\n",
    "    y = series\n",
    "    model = sm.OLS(y, X).fit()\n",
    "    print(f\"\\n OLS Trend for {label}\")\n",
    "    print(model.summary())\n",
    "    return model\n",
    "\n",
    "# --- Fit OLS models for each regime return series ---\n",
    "ols_models = {}\n",
    "for col in regime_trend_df.columns:\n",
    "    if col.startswith(\"return_regime_\"):\n",
    "        regime_num = col.split(\"_\")[-1]\n",
    "        ols_models[regime_num] = fit_trend(regime_trend_df[col], regime_trend_df['time'], col)"
   ]
  },
  {
   "cell_type": "markdown",
   "metadata": {},
   "source": [
    "### 📈 Interpretation of Linear Trend Analysis (OLS Regression on Regime Returns)\n",
    "\n",
    "In this section, we fit Ordinary Least Squares (OLS) linear regression models to the daily average log return for each regime, using time as the independent variable. The goal is to detect long-term trends in the return behavior of different market regimes.\n",
    "\n",
    "---\n",
    "\n",
    "#### 🔹 Regime 0 — Likely Bearish / High-Volatility Regime\n",
    "\n",
    "- **Intercept (const):** -0.0301  \n",
    "  Indicates the baseline daily return when time = 0. This regime starts off with a significantly **negative return**.\n",
    "- **Time Coefficient:** -1.905e-06  \n",
    "  The trend is **negative** and **statistically significant** (p = 0.029).\n",
    "- **R² = 0.004** — very low, but enough to indicate a slight downward drift over time.\n",
    "- ✅ **Interpretation:**  \n",
    "  Returns in this regime are deteriorating slightly over time. This could represent a **bear market regime**, where losses accumulate gradually.\n",
    "\n",
    "---\n",
    "\n",
    "#### 🔸 Regime 1 — Likely Stable / Sideways Regime\n",
    "\n",
    "- **Intercept (const):** +0.0013  \n",
    "  Small positive average return at time = 0.\n",
    "- **Time Coefficient:** -7.743e-08  \n",
    "  Very close to zero, and **not statistically significant** (p = 0.854).\n",
    "- **R² ≈ 0** — time explains almost none of the variation in returns.\n",
    "- ✅ **Interpretation:**  \n",
    "  This regime is **statistically flat** — returns do not trend up or down. It likely represents a **sideways or mean-reverting market phase**.\n",
    "\n",
    "---\n",
    "\n",
    "#### 🔺 Regime 2 — Likely Bullish / Risk-On Regime\n",
    "\n",
    "- **Intercept (const):** +0.0342  \n",
    "  Strong positive return to start.\n",
    "- **Time Coefficient:** +6.37e-08  \n",
    "  Very small and **not statistically significant** (p = 0.948).\n",
    "- **R² ≈ 0** — again, no meaningful trend detected.\n",
    "- ✅ **Interpretation:**  \n",
    "  Although the average return is **high**, there's **no evidence of a consistent trend** over time. This regime may reflect **sudden risk-on bursts or short-lived bullish rallies** rather than a linear upward drift.\n",
    "\n",
    "---\n",
    "\n",
    "### 🧠 Overall Takeaways\n",
    "\n",
    "- Only **Regime 0** shows a statistically significant time trend — and it's **negative**, reinforcing the idea of a slow deterioration or prolonged drawdown.\n",
    "- **Regimes 1 and 2** show **stable behavior over time**, with high returns in Regime 2 and flat performance in Regime 1.\n",
    "- These insights can be used to model **regime-specific drifts** in simulation, or as **flags** for adjusting risk exposure when a regime shift is detected.\n"
   ]
  }
 ],
 "metadata": {
  "kernelspec": {
   "display_name": "conda_python_env_3.11.10",
   "language": "python",
   "name": "python3"
  },
  "language_info": {
   "codemirror_mode": {
    "name": "ipython",
    "version": 3
   },
   "file_extension": ".py",
   "mimetype": "text/x-python",
   "name": "python",
   "nbconvert_exporter": "python",
   "pygments_lexer": "ipython3",
   "version": "3.11.10"
  }
 },
 "nbformat": 4,
 "nbformat_minor": 2
}
